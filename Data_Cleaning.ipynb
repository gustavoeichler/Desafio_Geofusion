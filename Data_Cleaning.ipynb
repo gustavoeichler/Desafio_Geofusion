{
 "cells": [
  {
   "cell_type": "markdown",
   "metadata": {},
   "source": [
    "# Pré Processamento da Base de Dados"
   ]
  },
  {
   "cell_type": "markdown",
   "metadata": {},
   "source": [
    "#### Caminho para salvar as bases de dados"
   ]
  },
  {
   "cell_type": "code",
   "execution_count": 116,
   "metadata": {},
   "outputs": [
    {
     "name": "stdout",
     "output_type": "stream",
     "text": [
      "Dados\n"
     ]
    }
   ],
   "source": [
    "import os\n",
    "out = os.path.basename('C:/Users/guga_/Desafio Geofusion/Dados')\n",
    "print(out)\n"
   ]
  },
  {
   "cell_type": "markdown",
   "metadata": {},
   "source": [
    "#### Funções"
   ]
  },
  {
   "cell_type": "code",
   "execution_count": 117,
   "metadata": {},
   "outputs": [],
   "source": [
    "def Salva_DB(Caminho,Filename,Arquivo):\n",
    "    open_file = open(f'{Caminho}/{Filename}', \"wb\")\n",
    "    pickle.dump(Arquivo, open_file)\n",
    "    open_file.close()\n",
    "\n",
    "def Abre_DB(Caminho,Filename):\n",
    "    with open(f'{Caminho}/{Filename}','rb') as f:\n",
    "        DB = pickle.load(f)\n",
    "    return DB"
   ]
  },
  {
   "cell_type": "markdown",
   "metadata": {},
   "source": [
    "#### Leitura da Base de dado"
   ]
  },
  {
   "cell_type": "code",
   "execution_count": 118,
   "metadata": {},
   "outputs": [],
   "source": [
    "import pandas as pd\n",
    "\n",
    "DB = pd.read_excel(f'{out}/DadosDesafioCientista.xlsx')"
   ]
  },
  {
   "cell_type": "markdown",
   "metadata": {},
   "source": [
    "#### Separar Base de dados entre RJ e SP"
   ]
  },
  {
   "cell_type": "code",
   "execution_count": 119,
   "metadata": {},
   "outputs": [],
   "source": [
    "DB_RJ = DB[DB['estado']=='RJ']\n",
    "DB_SP = DB[DB['estado']=='SP']"
   ]
  },
  {
   "cell_type": "markdown",
   "metadata": {},
   "source": [
    "#### Salvar as Bases de dados"
   ]
  },
  {
   "cell_type": "code",
   "execution_count": 120,
   "metadata": {},
   "outputs": [],
   "source": [
    "import pickle\n",
    "Salva_DB(out,'Base_SP.pkl',DB_SP)\n",
    "Salva_DB(out,'Base_RJ.pkl',DB_RJ)"
   ]
  },
  {
   "cell_type": "markdown",
   "metadata": {},
   "source": [
    "### Pré Processamento da Base RJ\n",
    "\n",
    "#### A Base do RJ será utilizada para duas ocasiões:\n",
    "- Realizar uma previsão do faturamento das lojas de SP;\n",
    "- Classificar o potencial de uma loja entre Alto, Médio e Baixo;\n",
    "\n",
    "#### Para as duas ocasiões será necessário:\n",
    "- Preencher os valores NaN (6) com a média da renda, não alterando a distribuição;\n",
    "- Retirar as colunas codigo, nome, cidade e estado;\n",
    "- Separar as colunas faturamento e potencial;\n",
    "- Padronizar e normalizar os dados existentes para que os modelos possam se adequar melhor a base de dados.\n",
    "    - Será utilizado o StandardScaler da biblioteca Scikit Learn;\n",
    "- Separar a base de dados entre Treino e Teste para a avaliar o desempenho dos modelos;\n",
    "    - Será utilizado o train_test_split da biblioteca Scikit Learn;\n",
    "- Salvar as bases de Treino e Teste para utilizar posteriormente;\n",
    "    "
   ]
  },
  {
   "cell_type": "markdown",
   "metadata": {},
   "source": [
    "#### Leitura da Base do RJ"
   ]
  },
  {
   "cell_type": "code",
   "execution_count": 121,
   "metadata": {},
   "outputs": [],
   "source": [
    "DB = Abre_DB(out,'Base_RJ.pkl')"
   ]
  },
  {
   "cell_type": "markdown",
   "metadata": {},
   "source": [
    "#### Preenchendo NaN"
   ]
  },
  {
   "cell_type": "code",
   "execution_count": 122,
   "metadata": {},
   "outputs": [],
   "source": [
    "DB['rendaMedia']=DB['rendaMedia'].fillna(DB['rendaMedia'].mean())"
   ]
  },
  {
   "cell_type": "markdown",
   "metadata": {},
   "source": [
    "#### Retirar as colunas indesejadas"
   ]
  },
  {
   "cell_type": "code",
   "execution_count": 123,
   "metadata": {},
   "outputs": [],
   "source": [
    "DB_dados_faturamento = DB.iloc[:,4:-2]\n",
    "DB_dados_potencial = DB.iloc[:,4:-1]"
   ]
  },
  {
   "cell_type": "markdown",
   "metadata": {},
   "source": [
    "#### Encoding da variável de potencial"
   ]
  },
  {
   "cell_type": "code",
   "execution_count": 124,
   "metadata": {},
   "outputs": [],
   "source": [
    "from sklearn.preprocessing import LabelEncoder\n",
    "labelencoder = LabelEncoder()\n",
    "\n",
    "potencial_encoded = labelencoder.fit_transform(DB.iloc[:,-1])\n",
    "\n",
    "\n",
    "mymap = {'0':'Alto', '1':'Baixo', '2':'Médio'}"
   ]
  },
  {
   "cell_type": "markdown",
   "metadata": {},
   "source": [
    "#### Padronização da Base de dados\n",
    "\n",
    "Utilizando a função:\n",
    "\n",
    "pd.Dataframe(DB).describe()\n",
    "\n",
    "é possível verificar a padronização dos dados, onde:\n",
    "- média = 0 \n",
    "- desvio = 1"
   ]
  },
  {
   "cell_type": "code",
   "execution_count": 125,
   "metadata": {},
   "outputs": [
    {
     "name": "stdout",
     "output_type": "stream",
     "text": [
      "Média: [ 0. -0.  0.  0.  0. -0.  0.  0. -0. -0.  0.  0.  0.  0. -0. -0.  0.  0.]\n",
      "Desvio: [1. 1. 1. 1. 1. 1. 1. 1. 1. 1. 1. 1. 1. 1. 1. 1. 1. 1.]\n",
      "Média: [ 0. -0.  0.  0.  0. -0.  0.  0. -0. -0.  0.  0.  0.  0. -0. -0.  0.  0.\n",
      "  0.]\n",
      "Desvio: [1. 1. 1. 1. 1. 1. 1. 1. 1. 1. 1. 1. 1. 1. 1. 1. 1. 1. 1.]\n"
     ]
    }
   ],
   "source": [
    "from sklearn.preprocessing import StandardScaler\n",
    "import numpy as np\n",
    "scaler_faturamento = StandardScaler()\n",
    "scaler_potencial = StandardScaler()\n",
    "\n",
    "DB_Scaled_faturamento = scaler_faturamento.fit_transform(DB_dados_faturamento)\n",
    "\n",
    "print('Média:',np.round(DB_Scaled_faturamento.mean(axis=0)))\n",
    "print('Desvio:',np.round(DB_Scaled_faturamento.std(axis=0)))\n",
    "\n",
    "DB_Scaled_potencial = scaler_potencial.fit_transform(DB_dados_potencial)\n",
    "\n",
    "print('Média:',np.round(DB_Scaled_potencial.mean(axis=0)))\n",
    "print('Desvio:',np.round(DB_Scaled_potencial.std(axis=0)))\n"
   ]
  },
  {
   "cell_type": "markdown",
   "metadata": {},
   "source": [
    "#### Separar as colunas de faturamento e potencial"
   ]
  },
  {
   "cell_type": "code",
   "execution_count": 126,
   "metadata": {},
   "outputs": [],
   "source": [
    "faturamento = DB.iloc[:,-2]\n",
    "potencial = DB.iloc[:,-1]\n"
   ]
  },
  {
   "cell_type": "markdown",
   "metadata": {},
   "source": [
    "#### Separar a base de dados em Treino e Teste"
   ]
  },
  {
   "cell_type": "code",
   "execution_count": 127,
   "metadata": {},
   "outputs": [],
   "source": [
    "from sklearn.model_selection import train_test_split\n",
    "\n",
    "X_train_potencial, X_test_potencial, y_train_potencial, y_test_potencial = train_test_split(\n",
    "    DB_Scaled_potencial, potencial_encoded, test_size=0.15, random_state=42)\n",
    "X_train_faturamento, X_test_faturamento, y_train_faturamento, y_test_faturamento = train_test_split(\n",
    "    DB_Scaled_faturamento, faturamento, test_size=0.15, random_state=42)    \n"
   ]
  },
  {
   "cell_type": "markdown",
   "metadata": {},
   "source": [
    "#### Salvar Bases de Treino e Teste"
   ]
  },
  {
   "cell_type": "code",
   "execution_count": 128,
   "metadata": {},
   "outputs": [],
   "source": [
    "Salva_DB(f'{out}/Treino',f'X_train_potencial.pkl',X_train_potencial)\n",
    "Salva_DB(f'{out}/Treino',f'y_train_potencial.pkl',y_train_potencial)\n",
    "Salva_DB(f'{out}/Treino',f'X_train_faturamento.pkl',X_train_faturamento)\n",
    "Salva_DB(f'{out}/Treino',f'y_train_faturamento.pkl',y_train_faturamento)\n",
    "Salva_DB(f'{out}/Teste',f'X_test_potencial.pkl',X_test_potencial)\n",
    "Salva_DB(f'{out}/Teste',f'y_test_potencial.pkl',y_test_potencial)\n",
    "Salva_DB(f'{out}/Teste',f'X_test_faturamento.pkl',X_test_faturamento)\n",
    "Salva_DB(f'{out}/Teste',f'y_test_faturamento.pkl',y_test_faturamento)"
   ]
  },
  {
   "cell_type": "markdown",
   "metadata": {},
   "source": [
    "### Pré Processamento Base SP\n",
    "\n",
    "Visualizando a base de forma geral, foi possível identificar que possuem 3 registros sem nenhuma entrada de informação ([232,361,376]).\n",
    "\n",
    "O que é necessário fazer:\n",
    "- Separar as colunas faturamento e potencial;\n",
    "- Juntar a coluna de faturamento obtida pela previsão;\n",
    "- Padronizar e normalizar os dados existentes para que os modelos possam se adequar melhor a base de dados.\n",
    "    - Será utilizado o StandardScaler da biblioteca Scikit Learn;\n",
    "- Salvar a base de dados para utilizar posteriormente;"
   ]
  },
  {
   "cell_type": "markdown",
   "metadata": {},
   "source": [
    "#### Leitura da Base"
   ]
  },
  {
   "cell_type": "code",
   "execution_count": 129,
   "metadata": {},
   "outputs": [],
   "source": [
    "DB_SP = Abre_DB(out,'Base_SP.pkl')"
   ]
  },
  {
   "cell_type": "code",
   "execution_count": 130,
   "metadata": {},
   "outputs": [],
   "source": [
    "DB_SP=DB_SP.replace('-',0)"
   ]
  },
  {
   "cell_type": "markdown",
   "metadata": {},
   "source": [
    "#### Separar as colunas de faturamento e potencial"
   ]
  },
  {
   "cell_type": "code",
   "execution_count": 131,
   "metadata": {},
   "outputs": [],
   "source": [
    "DB_dados = DB_SP.iloc[:,4:-2]\n",
    "\n"
   ]
  },
  {
   "cell_type": "markdown",
   "metadata": {},
   "source": [
    "#### Padronização antes do faturamento para base de faturamento"
   ]
  },
  {
   "cell_type": "code",
   "execution_count": 132,
   "metadata": {},
   "outputs": [
    {
     "name": "stdout",
     "output_type": "stream",
     "text": [
      "Média: [ 0.  0. -0.  0.  0. -0.  0. -0. -0. -0.  0.  0.  0.  0. -0.  0. -0.  0.]\n",
      "Desvio: [1. 1. 1. 1. 1. 1. 1. 1. 1. 1. 1. 1. 1. 1. 1. 1. 1. 1.]\n"
     ]
    }
   ],
   "source": [
    "from sklearn.preprocessing import StandardScaler\n",
    "import numpy as np\n",
    "scaler = StandardScaler()\n",
    "\n",
    "DB_Scaled = scaler.fit_transform(DB_dados)\n",
    "\n",
    "print('Média:',np.round(DB_Scaled.mean(axis=0)))\n",
    "print('Desvio:',np.round(DB_Scaled.std(axis=0)))"
   ]
  },
  {
   "cell_type": "markdown",
   "metadata": {},
   "source": [
    "#### Salvar Base antes do faturamento"
   ]
  },
  {
   "cell_type": "code",
   "execution_count": 133,
   "metadata": {},
   "outputs": [],
   "source": [
    "Salva_DB(f'{out}/Teste',f'Base_SP.pkl',DB_Scaled)"
   ]
  },
  {
   "cell_type": "markdown",
   "metadata": {},
   "source": [
    "#### Juntar a coluna de faturamento gerada pelo modelo de regressão"
   ]
  },
  {
   "cell_type": "code",
   "execution_count": 134,
   "metadata": {},
   "outputs": [],
   "source": [
    "DB_dados['faturamento'] = np.array(Abre_DB(out,'Faturamento_SP.pkl'))"
   ]
  },
  {
   "cell_type": "code",
   "execution_count": 135,
   "metadata": {},
   "outputs": [
    {
     "data": {
      "text/html": [
       "<div>\n",
       "<style scoped>\n",
       "    .dataframe tbody tr th:only-of-type {\n",
       "        vertical-align: middle;\n",
       "    }\n",
       "\n",
       "    .dataframe tbody tr th {\n",
       "        vertical-align: top;\n",
       "    }\n",
       "\n",
       "    .dataframe thead th {\n",
       "        text-align: right;\n",
       "    }\n",
       "</style>\n",
       "<table border=\"1\" class=\"dataframe\">\n",
       "  <thead>\n",
       "    <tr style=\"text-align: right;\">\n",
       "      <th></th>\n",
       "      <th>população</th>\n",
       "      <th>popAte9</th>\n",
       "      <th>popDe10a14</th>\n",
       "      <th>popDe15a19</th>\n",
       "      <th>popDe20a24</th>\n",
       "      <th>popDe25a34</th>\n",
       "      <th>popDe35a49</th>\n",
       "      <th>popDe50a59</th>\n",
       "      <th>popMaisDe60</th>\n",
       "      <th>domiciliosA1</th>\n",
       "      <th>domiciliosA2</th>\n",
       "      <th>domiciliosB1</th>\n",
       "      <th>domiciliosB2</th>\n",
       "      <th>domiciliosC1</th>\n",
       "      <th>domiciliosC2</th>\n",
       "      <th>domiciliosD</th>\n",
       "      <th>domiciliosE</th>\n",
       "      <th>rendaMedia</th>\n",
       "      <th>faturamento</th>\n",
       "    </tr>\n",
       "  </thead>\n",
       "  <tbody>\n",
       "    <tr>\n",
       "      <th>160</th>\n",
       "      <td>94034.0</td>\n",
       "      <td>12668.0</td>\n",
       "      <td>6853.0</td>\n",
       "      <td>9836.0</td>\n",
       "      <td>7487.0</td>\n",
       "      <td>14535.0</td>\n",
       "      <td>21549.0</td>\n",
       "      <td>10598.0</td>\n",
       "      <td>10508.0</td>\n",
       "      <td>0.0</td>\n",
       "      <td>253.0</td>\n",
       "      <td>2197.0</td>\n",
       "      <td>4368.0</td>\n",
       "      <td>6681.0</td>\n",
       "      <td>7011.0</td>\n",
       "      <td>2247.0</td>\n",
       "      <td>5670.0</td>\n",
       "      <td>1501.0</td>\n",
       "      <td>2.067560e+05</td>\n",
       "    </tr>\n",
       "    <tr>\n",
       "      <th>161</th>\n",
       "      <td>32791.0</td>\n",
       "      <td>2297.0</td>\n",
       "      <td>1017.0</td>\n",
       "      <td>2096.0</td>\n",
       "      <td>2197.0</td>\n",
       "      <td>5341.0</td>\n",
       "      <td>7281.0</td>\n",
       "      <td>4917.0</td>\n",
       "      <td>7645.0</td>\n",
       "      <td>1413.0</td>\n",
       "      <td>1734.0</td>\n",
       "      <td>3704.0</td>\n",
       "      <td>2351.0</td>\n",
       "      <td>1946.0</td>\n",
       "      <td>827.0</td>\n",
       "      <td>291.0</td>\n",
       "      <td>1617.0</td>\n",
       "      <td>5920.0</td>\n",
       "      <td>1.624085e+06</td>\n",
       "    </tr>\n",
       "    <tr>\n",
       "      <th>162</th>\n",
       "      <td>104193.0</td>\n",
       "      <td>15070.0</td>\n",
       "      <td>7343.0</td>\n",
       "      <td>10631.0</td>\n",
       "      <td>8657.0</td>\n",
       "      <td>17749.0</td>\n",
       "      <td>23364.0</td>\n",
       "      <td>11567.0</td>\n",
       "      <td>9812.0</td>\n",
       "      <td>0.0</td>\n",
       "      <td>0.0</td>\n",
       "      <td>1423.0</td>\n",
       "      <td>4875.0</td>\n",
       "      <td>8595.0</td>\n",
       "      <td>10082.0</td>\n",
       "      <td>3111.0</td>\n",
       "      <td>5776.0</td>\n",
       "      <td>1284.0</td>\n",
       "      <td>6.449765e+04</td>\n",
       "    </tr>\n",
       "    <tr>\n",
       "      <th>163</th>\n",
       "      <td>12721.0</td>\n",
       "      <td>953.0</td>\n",
       "      <td>343.0</td>\n",
       "      <td>627.0</td>\n",
       "      <td>819.0</td>\n",
       "      <td>2142.0</td>\n",
       "      <td>2833.0</td>\n",
       "      <td>1790.0</td>\n",
       "      <td>3214.0</td>\n",
       "      <td>624.0</td>\n",
       "      <td>667.0</td>\n",
       "      <td>1558.0</td>\n",
       "      <td>1032.0</td>\n",
       "      <td>915.0</td>\n",
       "      <td>361.0</td>\n",
       "      <td>84.0</td>\n",
       "      <td>404.0</td>\n",
       "      <td>6278.0</td>\n",
       "      <td>1.035049e+06</td>\n",
       "    </tr>\n",
       "    <tr>\n",
       "      <th>164</th>\n",
       "      <td>48417.0</td>\n",
       "      <td>5078.0</td>\n",
       "      <td>2396.0</td>\n",
       "      <td>4018.0</td>\n",
       "      <td>3571.0</td>\n",
       "      <td>7388.0</td>\n",
       "      <td>10751.0</td>\n",
       "      <td>6648.0</td>\n",
       "      <td>8567.0</td>\n",
       "      <td>0.0</td>\n",
       "      <td>303.0</td>\n",
       "      <td>1794.0</td>\n",
       "      <td>2986.0</td>\n",
       "      <td>4489.0</td>\n",
       "      <td>2836.0</td>\n",
       "      <td>1104.0</td>\n",
       "      <td>2553.0</td>\n",
       "      <td>1905.0</td>\n",
       "      <td>9.039367e+05</td>\n",
       "    </tr>\n",
       "    <tr>\n",
       "      <th>...</th>\n",
       "      <td>...</td>\n",
       "      <td>...</td>\n",
       "      <td>...</td>\n",
       "      <td>...</td>\n",
       "      <td>...</td>\n",
       "      <td>...</td>\n",
       "      <td>...</td>\n",
       "      <td>...</td>\n",
       "      <td>...</td>\n",
       "      <td>...</td>\n",
       "      <td>...</td>\n",
       "      <td>...</td>\n",
       "      <td>...</td>\n",
       "      <td>...</td>\n",
       "      <td>...</td>\n",
       "      <td>...</td>\n",
       "      <td>...</td>\n",
       "      <td>...</td>\n",
       "      <td>...</td>\n",
       "    </tr>\n",
       "    <tr>\n",
       "      <th>451</th>\n",
       "      <td>34061.0</td>\n",
       "      <td>2908.0</td>\n",
       "      <td>1462.0</td>\n",
       "      <td>2253.0</td>\n",
       "      <td>2076.0</td>\n",
       "      <td>4579.0</td>\n",
       "      <td>7557.0</td>\n",
       "      <td>5227.0</td>\n",
       "      <td>7999.0</td>\n",
       "      <td>942.0</td>\n",
       "      <td>1089.0</td>\n",
       "      <td>2866.0</td>\n",
       "      <td>2219.0</td>\n",
       "      <td>2216.0</td>\n",
       "      <td>1227.0</td>\n",
       "      <td>306.0</td>\n",
       "      <td>1098.0</td>\n",
       "      <td>5285.0</td>\n",
       "      <td>1.463185e+06</td>\n",
       "    </tr>\n",
       "    <tr>\n",
       "      <th>452</th>\n",
       "      <td>35403.0</td>\n",
       "      <td>4127.0</td>\n",
       "      <td>1890.0</td>\n",
       "      <td>2678.0</td>\n",
       "      <td>2433.0</td>\n",
       "      <td>5855.0</td>\n",
       "      <td>9107.0</td>\n",
       "      <td>4608.0</td>\n",
       "      <td>4705.0</td>\n",
       "      <td>1726.0</td>\n",
       "      <td>1522.0</td>\n",
       "      <td>2458.0</td>\n",
       "      <td>1186.0</td>\n",
       "      <td>1166.0</td>\n",
       "      <td>918.0</td>\n",
       "      <td>209.0</td>\n",
       "      <td>3840.0</td>\n",
       "      <td>7418.0</td>\n",
       "      <td>1.857500e+06</td>\n",
       "    </tr>\n",
       "    <tr>\n",
       "      <th>453</th>\n",
       "      <td>122359.0</td>\n",
       "      <td>18304.0</td>\n",
       "      <td>9304.0</td>\n",
       "      <td>13258.0</td>\n",
       "      <td>9965.0</td>\n",
       "      <td>19248.0</td>\n",
       "      <td>26592.0</td>\n",
       "      <td>12579.0</td>\n",
       "      <td>13109.0</td>\n",
       "      <td>0.0</td>\n",
       "      <td>0.0</td>\n",
       "      <td>1758.0</td>\n",
       "      <td>4517.0</td>\n",
       "      <td>9450.0</td>\n",
       "      <td>11473.0</td>\n",
       "      <td>3218.0</td>\n",
       "      <td>7540.0</td>\n",
       "      <td>1252.0</td>\n",
       "      <td>6.226067e+04</td>\n",
       "    </tr>\n",
       "    <tr>\n",
       "      <th>454</th>\n",
       "      <td>125864.0</td>\n",
       "      <td>14670.0</td>\n",
       "      <td>7305.0</td>\n",
       "      <td>11225.0</td>\n",
       "      <td>9338.0</td>\n",
       "      <td>18841.0</td>\n",
       "      <td>28500.0</td>\n",
       "      <td>16700.0</td>\n",
       "      <td>19285.0</td>\n",
       "      <td>8.0</td>\n",
       "      <td>872.0</td>\n",
       "      <td>5093.0</td>\n",
       "      <td>8063.0</td>\n",
       "      <td>10012.0</td>\n",
       "      <td>8082.0</td>\n",
       "      <td>2856.0</td>\n",
       "      <td>6853.0</td>\n",
       "      <td>1936.0</td>\n",
       "      <td>1.063012e+06</td>\n",
       "    </tr>\n",
       "    <tr>\n",
       "      <th>455</th>\n",
       "      <td>106.0</td>\n",
       "      <td>23.0</td>\n",
       "      <td>7.0</td>\n",
       "      <td>15.0</td>\n",
       "      <td>11.0</td>\n",
       "      <td>15.0</td>\n",
       "      <td>26.0</td>\n",
       "      <td>4.0</td>\n",
       "      <td>5.0</td>\n",
       "      <td>0.0</td>\n",
       "      <td>0.0</td>\n",
       "      <td>0.0</td>\n",
       "      <td>6.0</td>\n",
       "      <td>9.0</td>\n",
       "      <td>8.0</td>\n",
       "      <td>2.0</td>\n",
       "      <td>4.0</td>\n",
       "      <td>1288.0</td>\n",
       "      <td>6.752991e+05</td>\n",
       "    </tr>\n",
       "  </tbody>\n",
       "</table>\n",
       "<p>296 rows × 19 columns</p>\n",
       "</div>"
      ],
      "text/plain": [
       "     população  popAte9  popDe10a14  popDe15a19  popDe20a24  popDe25a34  \\\n",
       "160    94034.0  12668.0      6853.0      9836.0      7487.0     14535.0   \n",
       "161    32791.0   2297.0      1017.0      2096.0      2197.0      5341.0   \n",
       "162   104193.0  15070.0      7343.0     10631.0      8657.0     17749.0   \n",
       "163    12721.0    953.0       343.0       627.0       819.0      2142.0   \n",
       "164    48417.0   5078.0      2396.0      4018.0      3571.0      7388.0   \n",
       "..         ...      ...         ...         ...         ...         ...   \n",
       "451    34061.0   2908.0      1462.0      2253.0      2076.0      4579.0   \n",
       "452    35403.0   4127.0      1890.0      2678.0      2433.0      5855.0   \n",
       "453   122359.0  18304.0      9304.0     13258.0      9965.0     19248.0   \n",
       "454   125864.0  14670.0      7305.0     11225.0      9338.0     18841.0   \n",
       "455      106.0     23.0         7.0        15.0        11.0        15.0   \n",
       "\n",
       "     popDe35a49  popDe50a59  popMaisDe60  domiciliosA1  domiciliosA2  \\\n",
       "160     21549.0     10598.0      10508.0           0.0         253.0   \n",
       "161      7281.0      4917.0       7645.0        1413.0        1734.0   \n",
       "162     23364.0     11567.0       9812.0           0.0           0.0   \n",
       "163      2833.0      1790.0       3214.0         624.0         667.0   \n",
       "164     10751.0      6648.0       8567.0           0.0         303.0   \n",
       "..          ...         ...          ...           ...           ...   \n",
       "451      7557.0      5227.0       7999.0         942.0        1089.0   \n",
       "452      9107.0      4608.0       4705.0        1726.0        1522.0   \n",
       "453     26592.0     12579.0      13109.0           0.0           0.0   \n",
       "454     28500.0     16700.0      19285.0           8.0         872.0   \n",
       "455        26.0         4.0          5.0           0.0           0.0   \n",
       "\n",
       "     domiciliosB1  domiciliosB2  domiciliosC1  domiciliosC2  domiciliosD  \\\n",
       "160        2197.0        4368.0        6681.0        7011.0       2247.0   \n",
       "161        3704.0        2351.0        1946.0         827.0        291.0   \n",
       "162        1423.0        4875.0        8595.0       10082.0       3111.0   \n",
       "163        1558.0        1032.0         915.0         361.0         84.0   \n",
       "164        1794.0        2986.0        4489.0        2836.0       1104.0   \n",
       "..            ...           ...           ...           ...          ...   \n",
       "451        2866.0        2219.0        2216.0        1227.0        306.0   \n",
       "452        2458.0        1186.0        1166.0         918.0        209.0   \n",
       "453        1758.0        4517.0        9450.0       11473.0       3218.0   \n",
       "454        5093.0        8063.0       10012.0        8082.0       2856.0   \n",
       "455           0.0           6.0           9.0           8.0          2.0   \n",
       "\n",
       "     domiciliosE  rendaMedia   faturamento  \n",
       "160       5670.0      1501.0  2.067560e+05  \n",
       "161       1617.0      5920.0  1.624085e+06  \n",
       "162       5776.0      1284.0  6.449765e+04  \n",
       "163        404.0      6278.0  1.035049e+06  \n",
       "164       2553.0      1905.0  9.039367e+05  \n",
       "..           ...         ...           ...  \n",
       "451       1098.0      5285.0  1.463185e+06  \n",
       "452       3840.0      7418.0  1.857500e+06  \n",
       "453       7540.0      1252.0  6.226067e+04  \n",
       "454       6853.0      1936.0  1.063012e+06  \n",
       "455          4.0      1288.0  6.752991e+05  \n",
       "\n",
       "[296 rows x 19 columns]"
      ]
     },
     "execution_count": 135,
     "metadata": {},
     "output_type": "execute_result"
    }
   ],
   "source": [
    "DB_dados"
   ]
  },
  {
   "cell_type": "markdown",
   "metadata": {},
   "source": [
    "#### Padronização da Base de dados"
   ]
  },
  {
   "cell_type": "code",
   "execution_count": 136,
   "metadata": {},
   "outputs": [
    {
     "name": "stdout",
     "output_type": "stream",
     "text": [
      "Média: [ 0.  0. -0.  0.  0. -0.  0. -0. -0. -0.  0.  0.  0.  0. -0.  0. -0.  0.\n",
      "  0.]\n",
      "Desvio: [1. 1. 1. 1. 1. 1. 1. 1. 1. 1. 1. 1. 1. 1. 1. 1. 1. 1. 1.]\n"
     ]
    }
   ],
   "source": [
    "from sklearn.preprocessing import StandardScaler\n",
    "import numpy as np\n",
    "scaler = StandardScaler()\n",
    "\n",
    "DB_Scaled = scaler.fit_transform(DB_dados)\n",
    "\n",
    "print('Média:',np.round(DB_Scaled.mean(axis=0)))\n",
    "print('Desvio:',np.round(DB_Scaled.std(axis=0)))\n"
   ]
  },
  {
   "cell_type": "markdown",
   "metadata": {},
   "source": [
    "#### Salvar base padronizada para rodar o modelo de Regressão"
   ]
  },
  {
   "cell_type": "code",
   "execution_count": 137,
   "metadata": {},
   "outputs": [
    {
     "data": {
      "text/plain": [
       "(296, 19)"
      ]
     },
     "execution_count": 137,
     "metadata": {},
     "output_type": "execute_result"
    }
   ],
   "source": [
    "DB_Scaled.shape"
   ]
  },
  {
   "cell_type": "code",
   "execution_count": 138,
   "metadata": {},
   "outputs": [],
   "source": [
    "Salva_DB(f'{out}',f'Base_SP_faturamento.pkl',DB_Scaled)"
   ]
  },
  {
   "cell_type": "markdown",
   "metadata": {},
   "source": [
    "# Processamento Final"
   ]
  },
  {
   "cell_type": "code",
   "execution_count": 147,
   "metadata": {},
   "outputs": [
    {
     "data": {
      "text/html": [
       "<div>\n",
       "<style scoped>\n",
       "    .dataframe tbody tr th:only-of-type {\n",
       "        vertical-align: middle;\n",
       "    }\n",
       "\n",
       "    .dataframe tbody tr th {\n",
       "        vertical-align: top;\n",
       "    }\n",
       "\n",
       "    .dataframe thead th {\n",
       "        text-align: right;\n",
       "    }\n",
       "</style>\n",
       "<table border=\"1\" class=\"dataframe\">\n",
       "  <thead>\n",
       "    <tr style=\"text-align: right;\">\n",
       "      <th></th>\n",
       "      <th>codigo</th>\n",
       "      <th>nome</th>\n",
       "      <th>cidade</th>\n",
       "      <th>estado</th>\n",
       "      <th>população</th>\n",
       "      <th>popAte9</th>\n",
       "      <th>popDe10a14</th>\n",
       "      <th>popDe15a19</th>\n",
       "      <th>popDe20a24</th>\n",
       "      <th>popDe25a34</th>\n",
       "      <th>...</th>\n",
       "      <th>domiciliosA2</th>\n",
       "      <th>domiciliosB1</th>\n",
       "      <th>domiciliosB2</th>\n",
       "      <th>domiciliosC1</th>\n",
       "      <th>domiciliosC2</th>\n",
       "      <th>domiciliosD</th>\n",
       "      <th>domiciliosE</th>\n",
       "      <th>rendaMedia</th>\n",
       "      <th>faturamento</th>\n",
       "      <th>potencial</th>\n",
       "    </tr>\n",
       "  </thead>\n",
       "  <tbody>\n",
       "    <tr>\n",
       "      <th>160</th>\n",
       "      <td>355030251.0</td>\n",
       "      <td>A. E. Carvalho</td>\n",
       "      <td>São Paulo</td>\n",
       "      <td>SP</td>\n",
       "      <td>94034.0</td>\n",
       "      <td>12668.0</td>\n",
       "      <td>6853.0</td>\n",
       "      <td>9836.0</td>\n",
       "      <td>7487.0</td>\n",
       "      <td>14535.0</td>\n",
       "      <td>...</td>\n",
       "      <td>253.0</td>\n",
       "      <td>2197.0</td>\n",
       "      <td>4368.0</td>\n",
       "      <td>6681.0</td>\n",
       "      <td>7011.0</td>\n",
       "      <td>2247.0</td>\n",
       "      <td>5670.0</td>\n",
       "      <td>1501.0</td>\n",
       "      <td>2.067560e+05</td>\n",
       "      <td>Médio</td>\n",
       "    </tr>\n",
       "    <tr>\n",
       "      <th>161</th>\n",
       "      <td>35503020.0</td>\n",
       "      <td>Aclimação</td>\n",
       "      <td>São Paulo</td>\n",
       "      <td>SP</td>\n",
       "      <td>32791.0</td>\n",
       "      <td>2297.0</td>\n",
       "      <td>1017.0</td>\n",
       "      <td>2096.0</td>\n",
       "      <td>2197.0</td>\n",
       "      <td>5341.0</td>\n",
       "      <td>...</td>\n",
       "      <td>1734.0</td>\n",
       "      <td>3704.0</td>\n",
       "      <td>2351.0</td>\n",
       "      <td>1946.0</td>\n",
       "      <td>827.0</td>\n",
       "      <td>291.0</td>\n",
       "      <td>1617.0</td>\n",
       "      <td>5920.0</td>\n",
       "      <td>1.624085e+06</td>\n",
       "      <td>Alto</td>\n",
       "    </tr>\n",
       "    <tr>\n",
       "      <th>162</th>\n",
       "      <td>355030285.0</td>\n",
       "      <td>Adventista</td>\n",
       "      <td>São Paulo</td>\n",
       "      <td>SP</td>\n",
       "      <td>104193.0</td>\n",
       "      <td>15070.0</td>\n",
       "      <td>7343.0</td>\n",
       "      <td>10631.0</td>\n",
       "      <td>8657.0</td>\n",
       "      <td>17749.0</td>\n",
       "      <td>...</td>\n",
       "      <td>0.0</td>\n",
       "      <td>1423.0</td>\n",
       "      <td>4875.0</td>\n",
       "      <td>8595.0</td>\n",
       "      <td>10082.0</td>\n",
       "      <td>3111.0</td>\n",
       "      <td>5776.0</td>\n",
       "      <td>1284.0</td>\n",
       "      <td>6.449765e+04</td>\n",
       "      <td>Médio</td>\n",
       "    </tr>\n",
       "    <tr>\n",
       "      <th>163</th>\n",
       "      <td>35503088.0</td>\n",
       "      <td>Água Branca</td>\n",
       "      <td>São Paulo</td>\n",
       "      <td>SP</td>\n",
       "      <td>12721.0</td>\n",
       "      <td>953.0</td>\n",
       "      <td>343.0</td>\n",
       "      <td>627.0</td>\n",
       "      <td>819.0</td>\n",
       "      <td>2142.0</td>\n",
       "      <td>...</td>\n",
       "      <td>667.0</td>\n",
       "      <td>1558.0</td>\n",
       "      <td>1032.0</td>\n",
       "      <td>915.0</td>\n",
       "      <td>361.0</td>\n",
       "      <td>84.0</td>\n",
       "      <td>404.0</td>\n",
       "      <td>6278.0</td>\n",
       "      <td>1.035049e+06</td>\n",
       "      <td>Médio</td>\n",
       "    </tr>\n",
       "    <tr>\n",
       "      <th>164</th>\n",
       "      <td>35503066.0</td>\n",
       "      <td>Água Funda</td>\n",
       "      <td>São Paulo</td>\n",
       "      <td>SP</td>\n",
       "      <td>48417.0</td>\n",
       "      <td>5078.0</td>\n",
       "      <td>2396.0</td>\n",
       "      <td>4018.0</td>\n",
       "      <td>3571.0</td>\n",
       "      <td>7388.0</td>\n",
       "      <td>...</td>\n",
       "      <td>303.0</td>\n",
       "      <td>1794.0</td>\n",
       "      <td>2986.0</td>\n",
       "      <td>4489.0</td>\n",
       "      <td>2836.0</td>\n",
       "      <td>1104.0</td>\n",
       "      <td>2553.0</td>\n",
       "      <td>1905.0</td>\n",
       "      <td>9.039367e+05</td>\n",
       "      <td>Médio</td>\n",
       "    </tr>\n",
       "    <tr>\n",
       "      <th>...</th>\n",
       "      <td>...</td>\n",
       "      <td>...</td>\n",
       "      <td>...</td>\n",
       "      <td>...</td>\n",
       "      <td>...</td>\n",
       "      <td>...</td>\n",
       "      <td>...</td>\n",
       "      <td>...</td>\n",
       "      <td>...</td>\n",
       "      <td>...</td>\n",
       "      <td>...</td>\n",
       "      <td>...</td>\n",
       "      <td>...</td>\n",
       "      <td>...</td>\n",
       "      <td>...</td>\n",
       "      <td>...</td>\n",
       "      <td>...</td>\n",
       "      <td>...</td>\n",
       "      <td>...</td>\n",
       "      <td>...</td>\n",
       "      <td>...</td>\n",
       "    </tr>\n",
       "    <tr>\n",
       "      <th>451</th>\n",
       "      <td>355030213.0</td>\n",
       "      <td>Vila Sônia</td>\n",
       "      <td>São Paulo</td>\n",
       "      <td>SP</td>\n",
       "      <td>34061.0</td>\n",
       "      <td>2908.0</td>\n",
       "      <td>1462.0</td>\n",
       "      <td>2253.0</td>\n",
       "      <td>2076.0</td>\n",
       "      <td>4579.0</td>\n",
       "      <td>...</td>\n",
       "      <td>1089.0</td>\n",
       "      <td>2866.0</td>\n",
       "      <td>2219.0</td>\n",
       "      <td>2216.0</td>\n",
       "      <td>1227.0</td>\n",
       "      <td>306.0</td>\n",
       "      <td>1098.0</td>\n",
       "      <td>5285.0</td>\n",
       "      <td>1.463185e+06</td>\n",
       "      <td>Alto</td>\n",
       "    </tr>\n",
       "    <tr>\n",
       "      <th>452</th>\n",
       "      <td>355030207.0</td>\n",
       "      <td>Vila Suzana</td>\n",
       "      <td>São Paulo</td>\n",
       "      <td>SP</td>\n",
       "      <td>35403.0</td>\n",
       "      <td>4127.0</td>\n",
       "      <td>1890.0</td>\n",
       "      <td>2678.0</td>\n",
       "      <td>2433.0</td>\n",
       "      <td>5855.0</td>\n",
       "      <td>...</td>\n",
       "      <td>1522.0</td>\n",
       "      <td>2458.0</td>\n",
       "      <td>1186.0</td>\n",
       "      <td>1166.0</td>\n",
       "      <td>918.0</td>\n",
       "      <td>209.0</td>\n",
       "      <td>3840.0</td>\n",
       "      <td>7418.0</td>\n",
       "      <td>1.857500e+06</td>\n",
       "      <td>Alto</td>\n",
       "    </tr>\n",
       "    <tr>\n",
       "      <th>453</th>\n",
       "      <td>355030162.0</td>\n",
       "      <td>Vila Terezinha</td>\n",
       "      <td>São Paulo</td>\n",
       "      <td>SP</td>\n",
       "      <td>122359.0</td>\n",
       "      <td>18304.0</td>\n",
       "      <td>9304.0</td>\n",
       "      <td>13258.0</td>\n",
       "      <td>9965.0</td>\n",
       "      <td>19248.0</td>\n",
       "      <td>...</td>\n",
       "      <td>0.0</td>\n",
       "      <td>1758.0</td>\n",
       "      <td>4517.0</td>\n",
       "      <td>9450.0</td>\n",
       "      <td>11473.0</td>\n",
       "      <td>3218.0</td>\n",
       "      <td>7540.0</td>\n",
       "      <td>1252.0</td>\n",
       "      <td>6.226067e+04</td>\n",
       "      <td>Médio</td>\n",
       "    </tr>\n",
       "    <tr>\n",
       "      <th>454</th>\n",
       "      <td>355030157.0</td>\n",
       "      <td>Vila Zatt</td>\n",
       "      <td>São Paulo</td>\n",
       "      <td>SP</td>\n",
       "      <td>125864.0</td>\n",
       "      <td>14670.0</td>\n",
       "      <td>7305.0</td>\n",
       "      <td>11225.0</td>\n",
       "      <td>9338.0</td>\n",
       "      <td>18841.0</td>\n",
       "      <td>...</td>\n",
       "      <td>872.0</td>\n",
       "      <td>5093.0</td>\n",
       "      <td>8063.0</td>\n",
       "      <td>10012.0</td>\n",
       "      <td>8082.0</td>\n",
       "      <td>2856.0</td>\n",
       "      <td>6853.0</td>\n",
       "      <td>1936.0</td>\n",
       "      <td>1.063012e+06</td>\n",
       "      <td>Alto</td>\n",
       "    </tr>\n",
       "    <tr>\n",
       "      <th>455</th>\n",
       "      <td>355030164.0</td>\n",
       "      <td>Vista Alegre</td>\n",
       "      <td>São Paulo</td>\n",
       "      <td>SP</td>\n",
       "      <td>106.0</td>\n",
       "      <td>23.0</td>\n",
       "      <td>7.0</td>\n",
       "      <td>15.0</td>\n",
       "      <td>11.0</td>\n",
       "      <td>15.0</td>\n",
       "      <td>...</td>\n",
       "      <td>0.0</td>\n",
       "      <td>0.0</td>\n",
       "      <td>6.0</td>\n",
       "      <td>9.0</td>\n",
       "      <td>8.0</td>\n",
       "      <td>2.0</td>\n",
       "      <td>4.0</td>\n",
       "      <td>1288.0</td>\n",
       "      <td>6.752991e+05</td>\n",
       "      <td>Baixo</td>\n",
       "    </tr>\n",
       "  </tbody>\n",
       "</table>\n",
       "<p>296 rows × 24 columns</p>\n",
       "</div>"
      ],
      "text/plain": [
       "          codigo            nome     cidade estado  população  popAte9  \\\n",
       "160  355030251.0  A. E. Carvalho  São Paulo     SP    94034.0  12668.0   \n",
       "161   35503020.0       Aclimação  São Paulo     SP    32791.0   2297.0   \n",
       "162  355030285.0      Adventista  São Paulo     SP   104193.0  15070.0   \n",
       "163   35503088.0     Água Branca  São Paulo     SP    12721.0    953.0   \n",
       "164   35503066.0      Água Funda  São Paulo     SP    48417.0   5078.0   \n",
       "..           ...             ...        ...    ...        ...      ...   \n",
       "451  355030213.0      Vila Sônia  São Paulo     SP    34061.0   2908.0   \n",
       "452  355030207.0     Vila Suzana  São Paulo     SP    35403.0   4127.0   \n",
       "453  355030162.0  Vila Terezinha  São Paulo     SP   122359.0  18304.0   \n",
       "454  355030157.0       Vila Zatt  São Paulo     SP   125864.0  14670.0   \n",
       "455  355030164.0    Vista Alegre  São Paulo     SP      106.0     23.0   \n",
       "\n",
       "     popDe10a14  popDe15a19  popDe20a24  popDe25a34  ...  domiciliosA2  \\\n",
       "160      6853.0      9836.0      7487.0     14535.0  ...         253.0   \n",
       "161      1017.0      2096.0      2197.0      5341.0  ...        1734.0   \n",
       "162      7343.0     10631.0      8657.0     17749.0  ...           0.0   \n",
       "163       343.0       627.0       819.0      2142.0  ...         667.0   \n",
       "164      2396.0      4018.0      3571.0      7388.0  ...         303.0   \n",
       "..          ...         ...         ...         ...  ...           ...   \n",
       "451      1462.0      2253.0      2076.0      4579.0  ...        1089.0   \n",
       "452      1890.0      2678.0      2433.0      5855.0  ...        1522.0   \n",
       "453      9304.0     13258.0      9965.0     19248.0  ...           0.0   \n",
       "454      7305.0     11225.0      9338.0     18841.0  ...         872.0   \n",
       "455         7.0        15.0        11.0        15.0  ...           0.0   \n",
       "\n",
       "     domiciliosB1  domiciliosB2  domiciliosC1  domiciliosC2  domiciliosD  \\\n",
       "160        2197.0        4368.0        6681.0        7011.0       2247.0   \n",
       "161        3704.0        2351.0        1946.0         827.0        291.0   \n",
       "162        1423.0        4875.0        8595.0       10082.0       3111.0   \n",
       "163        1558.0        1032.0         915.0         361.0         84.0   \n",
       "164        1794.0        2986.0        4489.0        2836.0       1104.0   \n",
       "..            ...           ...           ...           ...          ...   \n",
       "451        2866.0        2219.0        2216.0        1227.0        306.0   \n",
       "452        2458.0        1186.0        1166.0         918.0        209.0   \n",
       "453        1758.0        4517.0        9450.0       11473.0       3218.0   \n",
       "454        5093.0        8063.0       10012.0        8082.0       2856.0   \n",
       "455           0.0           6.0           9.0           8.0          2.0   \n",
       "\n",
       "     domiciliosE  rendaMedia   faturamento  potencial  \n",
       "160       5670.0      1501.0  2.067560e+05      Médio  \n",
       "161       1617.0      5920.0  1.624085e+06       Alto  \n",
       "162       5776.0      1284.0  6.449765e+04      Médio  \n",
       "163        404.0      6278.0  1.035049e+06      Médio  \n",
       "164       2553.0      1905.0  9.039367e+05      Médio  \n",
       "..           ...         ...           ...        ...  \n",
       "451       1098.0      5285.0  1.463185e+06       Alto  \n",
       "452       3840.0      7418.0  1.857500e+06       Alto  \n",
       "453       7540.0      1252.0  6.226067e+04      Médio  \n",
       "454       6853.0      1936.0  1.063012e+06       Alto  \n",
       "455          4.0      1288.0  6.752991e+05      Baixo  \n",
       "\n",
       "[296 rows x 24 columns]"
      ]
     },
     "execution_count": 147,
     "metadata": {},
     "output_type": "execute_result"
    }
   ],
   "source": [
    "Base_Final = Abre_DB(out,'Base_SP.pkl')\n",
    "mymap = {0:'Alto', 1:'Baixo', 2:'Médio'}\n",
    "Base_Final['potencial']=((Abre_DB(out,'potencial.pkl')))\n",
    "Base_Final['faturamento'] = np.array(Abre_DB(out,'Faturamento_SP.pkl'))\n"
   ]
  },
  {
   "cell_type": "code",
   "execution_count": 148,
   "metadata": {},
   "outputs": [],
   "source": [
    "Salva_DB(out,'BASE_FINAL_SP.pkl',Base_Final)"
   ]
  }
 ],
 "metadata": {
  "interpreter": {
   "hash": "ffa7516ed6f29c8ec66f5fe36abdbb00b5a0b396b200a29e7dab09afceb1c3a9"
  },
  "kernelspec": {
   "display_name": "Python 3.9.9 64-bit (windows store)",
   "language": "python",
   "name": "python3"
  },
  "language_info": {
   "codemirror_mode": {
    "name": "ipython",
    "version": 3
   },
   "file_extension": ".py",
   "mimetype": "text/x-python",
   "name": "python",
   "nbconvert_exporter": "python",
   "pygments_lexer": "ipython3",
   "version": "3.9.9"
  },
  "orig_nbformat": 4
 },
 "nbformat": 4,
 "nbformat_minor": 2
}
