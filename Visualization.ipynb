{
 "cells": [
  {
   "cell_type": "code",
   "execution_count": 10,
   "metadata": {},
   "outputs": [],
   "source": [
    "import pandas as pd\n",
    "import pickle\n",
    "import numpy as np\n",
    "import seaborn as sns\n",
    "import matplotlib.pyplot as plt \n",
    "import plotly.express as px\n",
    "import os\n",
    "import plotly.graph_objects as go\n",
    "import pandas as pd\n",
    "import numpy as np\n",
    "import chart_studio.plotly as py\n",
    "import cufflinks as cf\n",
    "import seaborn as sns\n",
    "import plotly.express as px\n",
    "%matplotlib inline\n",
    "out = os.path.basename('C:/Users/guga_/Desafio Geofusion/Dados')\n",
    "\n",
    "def Salva_DB(Caminho,Filename,Arquivo):\n",
    "    open_file = open(f'{Caminho}/{Filename}', \"wb\")\n",
    "    pickle.dump(Arquivo, open_file)\n",
    "    open_file.close()\n",
    "\n",
    "def Abre_DB(Caminho,Filename):\n",
    "    with open(f'{Caminho}/{Filename}','rb') as f:\n",
    "        DB = pickle.load(f)\n",
    "    return DB"
   ]
  },
  {
   "cell_type": "code",
   "execution_count": null,
   "metadata": {},
   "outputs": [],
   "source": []
  },
  {
   "cell_type": "code",
   "execution_count": 11,
   "metadata": {},
   "outputs": [
    {
     "data": {
      "text/html": [
       "<div>\n",
       "<style scoped>\n",
       "    .dataframe tbody tr th:only-of-type {\n",
       "        vertical-align: middle;\n",
       "    }\n",
       "\n",
       "    .dataframe tbody tr th {\n",
       "        vertical-align: top;\n",
       "    }\n",
       "\n",
       "    .dataframe thead th {\n",
       "        text-align: right;\n",
       "    }\n",
       "</style>\n",
       "<table border=\"1\" class=\"dataframe\">\n",
       "  <thead>\n",
       "    <tr style=\"text-align: right;\">\n",
       "      <th></th>\n",
       "      <th>codigo</th>\n",
       "      <th>nome</th>\n",
       "      <th>cidade</th>\n",
       "      <th>estado</th>\n",
       "      <th>população</th>\n",
       "      <th>popAte9</th>\n",
       "      <th>popDe10a14</th>\n",
       "      <th>popDe15a19</th>\n",
       "      <th>popDe20a24</th>\n",
       "      <th>popDe25a34</th>\n",
       "      <th>...</th>\n",
       "      <th>domiciliosA2</th>\n",
       "      <th>domiciliosB1</th>\n",
       "      <th>domiciliosB2</th>\n",
       "      <th>domiciliosC1</th>\n",
       "      <th>domiciliosC2</th>\n",
       "      <th>domiciliosD</th>\n",
       "      <th>domiciliosE</th>\n",
       "      <th>rendaMedia</th>\n",
       "      <th>faturamento</th>\n",
       "      <th>potencial</th>\n",
       "    </tr>\n",
       "  </thead>\n",
       "  <tbody>\n",
       "    <tr>\n",
       "      <th>0</th>\n",
       "      <td>3.304557e+09</td>\n",
       "      <td>Abolição</td>\n",
       "      <td>Rio de Janeiro</td>\n",
       "      <td>RJ</td>\n",
       "      <td>-0.483570</td>\n",
       "      <td>-0.398991</td>\n",
       "      <td>-0.405698</td>\n",
       "      <td>-0.450661</td>\n",
       "      <td>-0.456522</td>\n",
       "      <td>-0.544193</td>\n",
       "      <td>...</td>\n",
       "      <td>-0.302704</td>\n",
       "      <td>-0.390174</td>\n",
       "      <td>-0.412607</td>\n",
       "      <td>-0.567582</td>\n",
       "      <td>-0.569552</td>\n",
       "      <td>-0.579996</td>\n",
       "      <td>-0.664191</td>\n",
       "      <td>-0.182322</td>\n",
       "      <td>0.129006</td>\n",
       "      <td>Médio</td>\n",
       "    </tr>\n",
       "    <tr>\n",
       "      <th>1</th>\n",
       "      <td>3.304557e+09</td>\n",
       "      <td>Acari</td>\n",
       "      <td>Rio de Janeiro</td>\n",
       "      <td>RJ</td>\n",
       "      <td>-0.235559</td>\n",
       "      <td>-0.018369</td>\n",
       "      <td>-0.060090</td>\n",
       "      <td>-0.100304</td>\n",
       "      <td>-0.128821</td>\n",
       "      <td>-0.196692</td>\n",
       "      <td>...</td>\n",
       "      <td>-0.397449</td>\n",
       "      <td>-0.603720</td>\n",
       "      <td>-0.678275</td>\n",
       "      <td>-0.347912</td>\n",
       "      <td>-0.135523</td>\n",
       "      <td>0.314881</td>\n",
       "      <td>0.299526</td>\n",
       "      <td>-0.440884</td>\n",
       "      <td>-0.657741</td>\n",
       "      <td>Baixo</td>\n",
       "    </tr>\n",
       "    <tr>\n",
       "      <th>2</th>\n",
       "      <td>3.304557e+09</td>\n",
       "      <td>Água Santa</td>\n",
       "      <td>Rio de Janeiro</td>\n",
       "      <td>RJ</td>\n",
       "      <td>-0.525295</td>\n",
       "      <td>-0.412346</td>\n",
       "      <td>-0.422725</td>\n",
       "      <td>-0.466530</td>\n",
       "      <td>-0.463326</td>\n",
       "      <td>-0.535325</td>\n",
       "      <td>...</td>\n",
       "      <td>-0.334722</td>\n",
       "      <td>-0.495092</td>\n",
       "      <td>-0.625575</td>\n",
       "      <td>-0.671734</td>\n",
       "      <td>-0.628692</td>\n",
       "      <td>-0.598259</td>\n",
       "      <td>-0.686073</td>\n",
       "      <td>-0.200438</td>\n",
       "      <td>-0.004487</td>\n",
       "      <td>Baixo</td>\n",
       "    </tr>\n",
       "    <tr>\n",
       "      <th>3</th>\n",
       "      <td>3.304557e+09</td>\n",
       "      <td>Alto Da Boa Vista</td>\n",
       "      <td>Rio de Janeiro</td>\n",
       "      <td>RJ</td>\n",
       "      <td>-0.515882</td>\n",
       "      <td>-0.394818</td>\n",
       "      <td>-0.394549</td>\n",
       "      <td>-0.455544</td>\n",
       "      <td>-0.477115</td>\n",
       "      <td>-0.583876</td>\n",
       "      <td>...</td>\n",
       "      <td>-0.281142</td>\n",
       "      <td>-0.498803</td>\n",
       "      <td>-0.674304</td>\n",
       "      <td>-0.601913</td>\n",
       "      <td>-0.613155</td>\n",
       "      <td>-0.525208</td>\n",
       "      <td>-0.672068</td>\n",
       "      <td>0.019586</td>\n",
       "      <td>0.082561</td>\n",
       "      <td>Médio</td>\n",
       "    </tr>\n",
       "    <tr>\n",
       "      <th>4</th>\n",
       "      <td>3.304557e+09</td>\n",
       "      <td>Anchieta</td>\n",
       "      <td>Rio de Janeiro</td>\n",
       "      <td>RJ</td>\n",
       "      <td>0.227400</td>\n",
       "      <td>0.217758</td>\n",
       "      <td>0.261396</td>\n",
       "      <td>0.282491</td>\n",
       "      <td>0.223950</td>\n",
       "      <td>0.230062</td>\n",
       "      <td>...</td>\n",
       "      <td>-0.397449</td>\n",
       "      <td>-0.264002</td>\n",
       "      <td>0.157352</td>\n",
       "      <td>0.364219</td>\n",
       "      <td>0.599219</td>\n",
       "      <td>0.614391</td>\n",
       "      <td>0.629955</td>\n",
       "      <td>-0.366939</td>\n",
       "      <td>-0.739723</td>\n",
       "      <td>Médio</td>\n",
       "    </tr>\n",
       "    <tr>\n",
       "      <th>...</th>\n",
       "      <td>...</td>\n",
       "      <td>...</td>\n",
       "      <td>...</td>\n",
       "      <td>...</td>\n",
       "      <td>...</td>\n",
       "      <td>...</td>\n",
       "      <td>...</td>\n",
       "      <td>...</td>\n",
       "      <td>...</td>\n",
       "      <td>...</td>\n",
       "      <td>...</td>\n",
       "      <td>...</td>\n",
       "      <td>...</td>\n",
       "      <td>...</td>\n",
       "      <td>...</td>\n",
       "      <td>...</td>\n",
       "      <td>...</td>\n",
       "      <td>...</td>\n",
       "      <td>...</td>\n",
       "      <td>...</td>\n",
       "      <td>...</td>\n",
       "    </tr>\n",
       "    <tr>\n",
       "      <th>155</th>\n",
       "      <td>3.304557e+09</td>\n",
       "      <td>Vila Kosmos</td>\n",
       "      <td>Rio de Janeiro</td>\n",
       "      <td>RJ</td>\n",
       "      <td>-0.372505</td>\n",
       "      <td>-0.327115</td>\n",
       "      <td>-0.316914</td>\n",
       "      <td>-0.319168</td>\n",
       "      <td>-0.337976</td>\n",
       "      <td>-0.452745</td>\n",
       "      <td>...</td>\n",
       "      <td>-0.228216</td>\n",
       "      <td>-0.370270</td>\n",
       "      <td>-0.368930</td>\n",
       "      <td>-0.375052</td>\n",
       "      <td>-0.413933</td>\n",
       "      <td>-0.460679</td>\n",
       "      <td>-0.619987</td>\n",
       "      <td>-0.212790</td>\n",
       "      <td>0.057884</td>\n",
       "      <td>Médio</td>\n",
       "    </tr>\n",
       "    <tr>\n",
       "      <th>156</th>\n",
       "      <td>3.304557e+09</td>\n",
       "      <td>Vila Militar</td>\n",
       "      <td>Rio de Janeiro</td>\n",
       "      <td>RJ</td>\n",
       "      <td>-0.454223</td>\n",
       "      <td>-0.319139</td>\n",
       "      <td>-0.344076</td>\n",
       "      <td>-0.388925</td>\n",
       "      <td>-0.423931</td>\n",
       "      <td>-0.448090</td>\n",
       "      <td>...</td>\n",
       "      <td>-0.254352</td>\n",
       "      <td>-0.390511</td>\n",
       "      <td>-0.562045</td>\n",
       "      <td>-0.577325</td>\n",
       "      <td>-0.505901</td>\n",
       "      <td>-0.550776</td>\n",
       "      <td>-0.593728</td>\n",
       "      <td>-0.196321</td>\n",
       "      <td>-0.060500</td>\n",
       "      <td>Médio</td>\n",
       "    </tr>\n",
       "    <tr>\n",
       "      <th>157</th>\n",
       "      <td>3.304557e+09</td>\n",
       "      <td>Vila Valqueire</td>\n",
       "      <td>Rio de Janeiro</td>\n",
       "      <td>RJ</td>\n",
       "      <td>-0.147738</td>\n",
       "      <td>-0.200611</td>\n",
       "      <td>-0.175428</td>\n",
       "      <td>-0.177386</td>\n",
       "      <td>-0.183258</td>\n",
       "      <td>-0.203122</td>\n",
       "      <td>...</td>\n",
       "      <td>0.194541</td>\n",
       "      <td>0.335480</td>\n",
       "      <td>-0.052006</td>\n",
       "      <td>-0.129401</td>\n",
       "      <td>-0.458789</td>\n",
       "      <td>-0.253701</td>\n",
       "      <td>-0.459368</td>\n",
       "      <td>-0.069016</td>\n",
       "      <td>0.574312</td>\n",
       "      <td>Alto</td>\n",
       "    </tr>\n",
       "    <tr>\n",
       "      <th>158</th>\n",
       "      <td>3.304557e+09</td>\n",
       "      <td>Vista Alegre</td>\n",
       "      <td>Rio de Janeiro</td>\n",
       "      <td>RJ</td>\n",
       "      <td>-0.527418</td>\n",
       "      <td>-0.427093</td>\n",
       "      <td>-0.425157</td>\n",
       "      <td>-0.469495</td>\n",
       "      <td>-0.498603</td>\n",
       "      <td>-0.596290</td>\n",
       "      <td>...</td>\n",
       "      <td>-0.340602</td>\n",
       "      <td>-0.443813</td>\n",
       "      <td>-0.559157</td>\n",
       "      <td>-0.603073</td>\n",
       "      <td>-0.638214</td>\n",
       "      <td>-0.600694</td>\n",
       "      <td>-0.703579</td>\n",
       "      <td>-0.195992</td>\n",
       "      <td>0.104650</td>\n",
       "      <td>Baixo</td>\n",
       "    </tr>\n",
       "    <tr>\n",
       "      <th>159</th>\n",
       "      <td>3.304557e+09</td>\n",
       "      <td>Zumbi</td>\n",
       "      <td>Rio de Janeiro</td>\n",
       "      <td>RJ</td>\n",
       "      <td>-0.633487</td>\n",
       "      <td>-0.478009</td>\n",
       "      <td>-0.488603</td>\n",
       "      <td>-0.549716</td>\n",
       "      <td>-0.578111</td>\n",
       "      <td>-0.694610</td>\n",
       "      <td>...</td>\n",
       "      <td>-0.339295</td>\n",
       "      <td>-0.552442</td>\n",
       "      <td>-0.797032</td>\n",
       "      <td>-0.787021</td>\n",
       "      <td>-0.741459</td>\n",
       "      <td>-0.679833</td>\n",
       "      <td>-0.776668</td>\n",
       "      <td>0.030126</td>\n",
       "      <td>0.099101</td>\n",
       "      <td>Baixo</td>\n",
       "    </tr>\n",
       "  </tbody>\n",
       "</table>\n",
       "<p>160 rows × 24 columns</p>\n",
       "</div>"
      ],
      "text/plain": [
       "           codigo               nome          cidade estado  população  \\\n",
       "0    3.304557e+09           Abolição  Rio de Janeiro     RJ  -0.483570   \n",
       "1    3.304557e+09              Acari  Rio de Janeiro     RJ  -0.235559   \n",
       "2    3.304557e+09         Água Santa  Rio de Janeiro     RJ  -0.525295   \n",
       "3    3.304557e+09  Alto Da Boa Vista  Rio de Janeiro     RJ  -0.515882   \n",
       "4    3.304557e+09           Anchieta  Rio de Janeiro     RJ   0.227400   \n",
       "..            ...                ...             ...    ...        ...   \n",
       "155  3.304557e+09        Vila Kosmos  Rio de Janeiro     RJ  -0.372505   \n",
       "156  3.304557e+09       Vila Militar  Rio de Janeiro     RJ  -0.454223   \n",
       "157  3.304557e+09     Vila Valqueire  Rio de Janeiro     RJ  -0.147738   \n",
       "158  3.304557e+09       Vista Alegre  Rio de Janeiro     RJ  -0.527418   \n",
       "159  3.304557e+09              Zumbi  Rio de Janeiro     RJ  -0.633487   \n",
       "\n",
       "      popAte9  popDe10a14  popDe15a19  popDe20a24  popDe25a34  ...  \\\n",
       "0   -0.398991   -0.405698   -0.450661   -0.456522   -0.544193  ...   \n",
       "1   -0.018369   -0.060090   -0.100304   -0.128821   -0.196692  ...   \n",
       "2   -0.412346   -0.422725   -0.466530   -0.463326   -0.535325  ...   \n",
       "3   -0.394818   -0.394549   -0.455544   -0.477115   -0.583876  ...   \n",
       "4    0.217758    0.261396    0.282491    0.223950    0.230062  ...   \n",
       "..        ...         ...         ...         ...         ...  ...   \n",
       "155 -0.327115   -0.316914   -0.319168   -0.337976   -0.452745  ...   \n",
       "156 -0.319139   -0.344076   -0.388925   -0.423931   -0.448090  ...   \n",
       "157 -0.200611   -0.175428   -0.177386   -0.183258   -0.203122  ...   \n",
       "158 -0.427093   -0.425157   -0.469495   -0.498603   -0.596290  ...   \n",
       "159 -0.478009   -0.488603   -0.549716   -0.578111   -0.694610  ...   \n",
       "\n",
       "     domiciliosA2  domiciliosB1  domiciliosB2  domiciliosC1  domiciliosC2  \\\n",
       "0       -0.302704     -0.390174     -0.412607     -0.567582     -0.569552   \n",
       "1       -0.397449     -0.603720     -0.678275     -0.347912     -0.135523   \n",
       "2       -0.334722     -0.495092     -0.625575     -0.671734     -0.628692   \n",
       "3       -0.281142     -0.498803     -0.674304     -0.601913     -0.613155   \n",
       "4       -0.397449     -0.264002      0.157352      0.364219      0.599219   \n",
       "..            ...           ...           ...           ...           ...   \n",
       "155     -0.228216     -0.370270     -0.368930     -0.375052     -0.413933   \n",
       "156     -0.254352     -0.390511     -0.562045     -0.577325     -0.505901   \n",
       "157      0.194541      0.335480     -0.052006     -0.129401     -0.458789   \n",
       "158     -0.340602     -0.443813     -0.559157     -0.603073     -0.638214   \n",
       "159     -0.339295     -0.552442     -0.797032     -0.787021     -0.741459   \n",
       "\n",
       "     domiciliosD  domiciliosE  rendaMedia  faturamento  potencial  \n",
       "0      -0.579996    -0.664191   -0.182322     0.129006      Médio  \n",
       "1       0.314881     0.299526   -0.440884    -0.657741      Baixo  \n",
       "2      -0.598259    -0.686073   -0.200438    -0.004487      Baixo  \n",
       "3      -0.525208    -0.672068    0.019586     0.082561      Médio  \n",
       "4       0.614391     0.629955   -0.366939    -0.739723      Médio  \n",
       "..           ...          ...         ...          ...        ...  \n",
       "155    -0.460679    -0.619987   -0.212790     0.057884      Médio  \n",
       "156    -0.550776    -0.593728   -0.196321    -0.060500      Médio  \n",
       "157    -0.253701    -0.459368   -0.069016     0.574312       Alto  \n",
       "158    -0.600694    -0.703579   -0.195992     0.104650      Baixo  \n",
       "159    -0.679833    -0.776668    0.030126     0.099101      Baixo  \n",
       "\n",
       "[160 rows x 24 columns]"
      ]
     },
     "execution_count": 11,
     "metadata": {},
     "output_type": "execute_result"
    }
   ],
   "source": [
    "DF = Abre_DB(out,'Base_RJ.pkl')\n",
    "from sklearn.preprocessing import StandardScaler\n",
    "import numpy as np\n",
    "scaler_faturamento = StandardScaler()\n",
    "DF.iloc[:,4:-1] = pd.DataFrame(scaler_faturamento.fit_transform(DF.iloc[:,4:-1]))\n",
    "DF"
   ]
  },
  {
   "cell_type": "code",
   "execution_count": 12,
   "metadata": {},
   "outputs": [
    {
     "data": {
      "image/png": "[encoded data removed]",
      "text/plain": [
       "<Figure size 2160x432 with 9 Axes>"
      ]
     },
     "metadata": {},
     "output_type": "display_data"
    }
   ],
   "source": [
    "sns.set_style(\"white\")\n",
    "sns.set_context(\"notebook\", font_scale=1.2, rc={\"lines.linewidth\": 2.5})\n",
    "fig = sns.pairplot(DF,y_vars=['faturamento'],\n",
    "                  x_vars=DF.iloc[:,4:13],hue='potencial')\n",
    "fig.fig.set_figheight(6)\n",
    "fig.fig.set_figwidth(30)\n",
    "plt.show()\n",
    "\n",
    "fig.savefig('Relacao_populacao.pdf')"
   ]
  },
  {
   "cell_type": "code",
   "execution_count": 13,
   "metadata": {},
   "outputs": [
    {
     "data": {
      "image/png": "[encoded data removed]",
      "text/plain": [
       "<Figure size 2160x432 with 8 Axes>"
      ]
     },
     "metadata": {},
     "output_type": "display_data"
    }
   ],
   "source": [
    "sns.set_style(\"white\")\n",
    "sns.set_context(\"notebook\", font_scale=1.2, rc={\"lines.linewidth\": 2.5})\n",
    "fig=sns.pairplot(DF,y_vars=['faturamento'],\n",
    "                  x_vars=DF.iloc[:,13:-3],hue='potencial')\n",
    "fig.fig.set_figheight(6)\n",
    "fig.fig.set_figwidth(30)                  \n",
    "                  \n",
    "plt.show()\n",
    "\n",
    "fig.savefig('Relacao_domicilios.pdf')"
   ]
  },
  {
   "cell_type": "code",
   "execution_count": 14,
   "metadata": {},
   "outputs": [
    {
     "data": {
      "image/png": "[encoded data removed]",
      "text/plain": [
       "<Figure size 864x432 with 2 Axes>"
      ]
     },
     "metadata": {},
     "output_type": "display_data"
    }
   ],
   "source": [
    "sns.set_style(\"white\")\n",
    "sns.set_context(\"notebook\", font_scale=1.2, rc={\"lines.linewidth\": 2.5})\n",
    "fig= sns.pairplot(DF,y_vars=['faturamento'],\n",
    "                  x_vars=DF.iloc[:,-2:-1])\n",
    "fig.fig.set_figheight(6)\n",
    "fig.fig.set_figwidth(12)\n",
    "plt.show()\n",
    "\n",
    "fig.savefig('Distribuicao.pdf')"
   ]
  },
  {
   "cell_type": "code",
   "execution_count": 15,
   "metadata": {},
   "outputs": [
    {
     "data": {
      "image/png": "[encoded data removed]",
      "text/plain": [
       "<Figure size 720x576 with 2 Axes>"
      ]
     },
     "metadata": {},
     "output_type": "display_data"
    }
   ],
   "source": [
    "sns.set_style(\"white\")\n",
    "sns.set_context(\"notebook\", font_scale=1, rc={\"lines.linewidth\": 2.5})\n",
    "corr = DF.corr()\n",
    "f, ax = plt.subplots(figsize=(10, 8))\n",
    "\n",
    "sns.heatmap(corr, mask=np.zeros_like(corr, dtype=np.bool), cmap=sns.diverging_palette(220, 10, as_cmap=True),\n",
    "            square=True, ax=ax)\n",
    "\n",
    "f.savefig('Corr.pdf')            "
   ]
  },
  {
   "cell_type": "code",
   "execution_count": 16,
   "metadata": {},
   "outputs": [
    {
     "data": {
      "text/html": [
       "<div>\n",
       "<style scoped>\n",
       "    .dataframe tbody tr th:only-of-type {\n",
       "        vertical-align: middle;\n",
       "    }\n",
       "\n",
       "    .dataframe tbody tr th {\n",
       "        vertical-align: top;\n",
       "    }\n",
       "\n",
       "    .dataframe thead th {\n",
       "        text-align: right;\n",
       "    }\n",
       "</style>\n",
       "<table border=\"1\" class=\"dataframe\">\n",
       "  <thead>\n",
       "    <tr style=\"text-align: right;\">\n",
       "      <th></th>\n",
       "      <th>0</th>\n",
       "      <th>1</th>\n",
       "      <th>2</th>\n",
       "      <th>3</th>\n",
       "      <th>4</th>\n",
       "      <th>5</th>\n",
       "      <th>6</th>\n",
       "      <th>7</th>\n",
       "      <th>8</th>\n",
       "      <th>9</th>\n",
       "      <th>10</th>\n",
       "      <th>11</th>\n",
       "      <th>12</th>\n",
       "      <th>13</th>\n",
       "      <th>14</th>\n",
       "      <th>15</th>\n",
       "      <th>16</th>\n",
       "      <th>17</th>\n",
       "      <th>18</th>\n",
       "    </tr>\n",
       "  </thead>\n",
       "  <tbody>\n",
       "    <tr>\n",
       "      <th>0</th>\n",
       "      <td>-0.643322</td>\n",
       "      <td>-0.477453</td>\n",
       "      <td>-0.480900</td>\n",
       "      <td>-0.545705</td>\n",
       "      <td>-0.577574</td>\n",
       "      <td>-0.707468</td>\n",
       "      <td>-0.735021</td>\n",
       "      <td>-0.650809</td>\n",
       "      <td>-0.715877</td>\n",
       "      <td>-0.277638</td>\n",
       "      <td>-0.395489</td>\n",
       "      <td>-0.616203</td>\n",
       "      <td>-0.808221</td>\n",
       "      <td>-0.784237</td>\n",
       "      <td>-0.743464</td>\n",
       "      <td>-0.682268</td>\n",
       "      <td>-0.787172</td>\n",
       "      <td>-0.281020</td>\n",
       "      <td>-0.048022</td>\n",
       "    </tr>\n",
       "    <tr>\n",
       "      <th>1</th>\n",
       "      <td>-0.460436</td>\n",
       "      <td>-0.317376</td>\n",
       "      <td>-0.320360</td>\n",
       "      <td>-0.372009</td>\n",
       "      <td>-0.391161</td>\n",
       "      <td>-0.481011</td>\n",
       "      <td>-0.511198</td>\n",
       "      <td>-0.491789</td>\n",
       "      <td>-0.590904</td>\n",
       "      <td>-0.264774</td>\n",
       "      <td>-0.366739</td>\n",
       "      <td>-0.589551</td>\n",
       "      <td>-0.728449</td>\n",
       "      <td>-0.499617</td>\n",
       "      <td>-0.346774</td>\n",
       "      <td>-0.510598</td>\n",
       "      <td>-0.435297</td>\n",
       "      <td>-0.354714</td>\n",
       "      <td>-0.401351</td>\n",
       "    </tr>\n",
       "    <tr>\n",
       "      <th>2</th>\n",
       "      <td>0.852983</td>\n",
       "      <td>0.879302</td>\n",
       "      <td>0.947139</td>\n",
       "      <td>0.991401</td>\n",
       "      <td>0.811484</td>\n",
       "      <td>0.959204</td>\n",
       "      <td>1.011736</td>\n",
       "      <td>0.694580</td>\n",
       "      <td>0.435674</td>\n",
       "      <td>-0.277638</td>\n",
       "      <td>-0.397449</td>\n",
       "      <td>-0.310558</td>\n",
       "      <td>0.586536</td>\n",
       "      <td>1.176791</td>\n",
       "      <td>1.518648</td>\n",
       "      <td>1.623715</td>\n",
       "      <td>1.764356</td>\n",
       "      <td>-0.397352</td>\n",
       "      <td>-1.622048</td>\n",
       "    </tr>\n",
       "    <tr>\n",
       "      <th>3</th>\n",
       "      <td>-0.408970</td>\n",
       "      <td>-0.382019</td>\n",
       "      <td>-0.392927</td>\n",
       "      <td>-0.419095</td>\n",
       "      <td>-0.391698</td>\n",
       "      <td>-0.450750</td>\n",
       "      <td>-0.479981</td>\n",
       "      <td>-0.346335</td>\n",
       "      <td>-0.313675</td>\n",
       "      <td>0.682188</td>\n",
       "      <td>0.369001</td>\n",
       "      <td>-0.035612</td>\n",
       "      <td>-0.507540</td>\n",
       "      <td>-0.641115</td>\n",
       "      <td>-0.644980</td>\n",
       "      <td>-0.692008</td>\n",
       "      <td>-0.661127</td>\n",
       "      <td>2.155561</td>\n",
       "      <td>1.268818</td>\n",
       "    </tr>\n",
       "    <tr>\n",
       "      <th>4</th>\n",
       "      <td>-0.489595</td>\n",
       "      <td>-0.412161</td>\n",
       "      <td>-0.402252</td>\n",
       "      <td>-0.455369</td>\n",
       "      <td>-0.469773</td>\n",
       "      <td>-0.567581</td>\n",
       "      <td>-0.553371</td>\n",
       "      <td>-0.451092</td>\n",
       "      <td>-0.452339</td>\n",
       "      <td>0.393454</td>\n",
       "      <td>0.227211</td>\n",
       "      <td>-0.380390</td>\n",
       "      <td>-0.710040</td>\n",
       "      <td>-0.720911</td>\n",
       "      <td>-0.670290</td>\n",
       "      <td>-0.646960</td>\n",
       "      <td>-0.706643</td>\n",
       "      <td>2.357169</td>\n",
       "      <td>1.040628</td>\n",
       "    </tr>\n",
       "    <tr>\n",
       "      <th>...</th>\n",
       "      <td>...</td>\n",
       "      <td>...</td>\n",
       "      <td>...</td>\n",
       "      <td>...</td>\n",
       "      <td>...</td>\n",
       "      <td>...</td>\n",
       "      <td>...</td>\n",
       "      <td>...</td>\n",
       "      <td>...</td>\n",
       "      <td>...</td>\n",
       "      <td>...</td>\n",
       "      <td>...</td>\n",
       "      <td>...</td>\n",
       "      <td>...</td>\n",
       "      <td>...</td>\n",
       "      <td>...</td>\n",
       "      <td>...</td>\n",
       "      <td>...</td>\n",
       "      <td>...</td>\n",
       "    </tr>\n",
       "    <tr>\n",
       "      <th>131</th>\n",
       "      <td>-0.516944</td>\n",
       "      <td>-0.371261</td>\n",
       "      <td>-0.376103</td>\n",
       "      <td>-0.437581</td>\n",
       "      <td>-0.472280</td>\n",
       "      <td>-0.558381</td>\n",
       "      <td>-0.600501</td>\n",
       "      <td>-0.530602</td>\n",
       "      <td>-0.581223</td>\n",
       "      <td>-0.277638</td>\n",
       "      <td>-0.387648</td>\n",
       "      <td>-0.577069</td>\n",
       "      <td>-0.683328</td>\n",
       "      <td>-0.674286</td>\n",
       "      <td>-0.561031</td>\n",
       "      <td>-0.452157</td>\n",
       "      <td>-0.560904</td>\n",
       "      <td>0.000000</td>\n",
       "      <td>-0.122038</td>\n",
       "    </tr>\n",
       "    <tr>\n",
       "      <th>132</th>\n",
       "      <td>0.597012</td>\n",
       "      <td>0.365406</td>\n",
       "      <td>0.432072</td>\n",
       "      <td>0.745157</td>\n",
       "      <td>0.925911</td>\n",
       "      <td>0.704481</td>\n",
       "      <td>0.590525</td>\n",
       "      <td>0.480795</td>\n",
       "      <td>0.562897</td>\n",
       "      <td>-0.277638</td>\n",
       "      <td>-0.241284</td>\n",
       "      <td>0.086848</td>\n",
       "      <td>0.809972</td>\n",
       "      <td>0.950857</td>\n",
       "      <td>0.765613</td>\n",
       "      <td>0.625349</td>\n",
       "      <td>0.762127</td>\n",
       "      <td>-0.323323</td>\n",
       "      <td>-0.647765</td>\n",
       "    </tr>\n",
       "    <tr>\n",
       "      <th>133</th>\n",
       "      <td>-0.365543</td>\n",
       "      <td>-0.327764</td>\n",
       "      <td>-0.330495</td>\n",
       "      <td>-0.345327</td>\n",
       "      <td>-0.358570</td>\n",
       "      <td>-0.417940</td>\n",
       "      <td>-0.426938</td>\n",
       "      <td>-0.330885</td>\n",
       "      <td>-0.289033</td>\n",
       "      <td>-0.277638</td>\n",
       "      <td>-0.397449</td>\n",
       "      <td>-0.308534</td>\n",
       "      <td>-0.350882</td>\n",
       "      <td>-0.236801</td>\n",
       "      <td>-0.429219</td>\n",
       "      <td>-0.464332</td>\n",
       "      <td>-0.494380</td>\n",
       "      <td>-0.279342</td>\n",
       "      <td>-0.056767</td>\n",
       "    </tr>\n",
       "    <tr>\n",
       "      <th>134</th>\n",
       "      <td>-0.537861</td>\n",
       "      <td>-0.421714</td>\n",
       "      <td>-0.429819</td>\n",
       "      <td>-0.487109</td>\n",
       "      <td>-0.507736</td>\n",
       "      <td>-0.586647</td>\n",
       "      <td>-0.617979</td>\n",
       "      <td>-0.522689</td>\n",
       "      <td>-0.547584</td>\n",
       "      <td>-0.277638</td>\n",
       "      <td>-0.330801</td>\n",
       "      <td>-0.427958</td>\n",
       "      <td>-0.600668</td>\n",
       "      <td>-0.625805</td>\n",
       "      <td>-0.640219</td>\n",
       "      <td>-0.642090</td>\n",
       "      <td>-0.707081</td>\n",
       "      <td>-0.167207</td>\n",
       "      <td>0.066924</td>\n",
       "    </tr>\n",
       "    <tr>\n",
       "      <th>135</th>\n",
       "      <td>-0.518130</td>\n",
       "      <td>-0.372003</td>\n",
       "      <td>-0.367387</td>\n",
       "      <td>-0.418746</td>\n",
       "      <td>-0.473175</td>\n",
       "      <td>-0.575119</td>\n",
       "      <td>-0.578936</td>\n",
       "      <td>-0.542660</td>\n",
       "      <td>-0.602248</td>\n",
       "      <td>-0.277638</td>\n",
       "      <td>-0.397449</td>\n",
       "      <td>-0.583142</td>\n",
       "      <td>-0.676470</td>\n",
       "      <td>-0.584052</td>\n",
       "      <td>-0.596365</td>\n",
       "      <td>-0.454592</td>\n",
       "      <td>-0.538146</td>\n",
       "      <td>-0.375026</td>\n",
       "      <td>-0.198803</td>\n",
       "    </tr>\n",
       "  </tbody>\n",
       "</table>\n",
       "<p>136 rows × 19 columns</p>\n",
       "</div>"
      ],
      "text/plain": [
       "           0         1         2         3         4         5         6   \\\n",
       "0   -0.643322 -0.477453 -0.480900 -0.545705 -0.577574 -0.707468 -0.735021   \n",
       "1   -0.460436 -0.317376 -0.320360 -0.372009 -0.391161 -0.481011 -0.511198   \n",
       "2    0.852983  0.879302  0.947139  0.991401  0.811484  0.959204  1.011736   \n",
       "3   -0.408970 -0.382019 -0.392927 -0.419095 -0.391698 -0.450750 -0.479981   \n",
       "4   -0.489595 -0.412161 -0.402252 -0.455369 -0.469773 -0.567581 -0.553371   \n",
       "..        ...       ...       ...       ...       ...       ...       ...   \n",
       "131 -0.516944 -0.371261 -0.376103 -0.437581 -0.472280 -0.558381 -0.600501   \n",
       "132  0.597012  0.365406  0.432072  0.745157  0.925911  0.704481  0.590525   \n",
       "133 -0.365543 -0.327764 -0.330495 -0.345327 -0.358570 -0.417940 -0.426938   \n",
       "134 -0.537861 -0.421714 -0.429819 -0.487109 -0.507736 -0.586647 -0.617979   \n",
       "135 -0.518130 -0.372003 -0.367387 -0.418746 -0.473175 -0.575119 -0.578936   \n",
       "\n",
       "           7         8         9         10        11        12        13  \\\n",
       "0   -0.650809 -0.715877 -0.277638 -0.395489 -0.616203 -0.808221 -0.784237   \n",
       "1   -0.491789 -0.590904 -0.264774 -0.366739 -0.589551 -0.728449 -0.499617   \n",
       "2    0.694580  0.435674 -0.277638 -0.397449 -0.310558  0.586536  1.176791   \n",
       "3   -0.346335 -0.313675  0.682188  0.369001 -0.035612 -0.507540 -0.641115   \n",
       "4   -0.451092 -0.452339  0.393454  0.227211 -0.380390 -0.710040 -0.720911   \n",
       "..        ...       ...       ...       ...       ...       ...       ...   \n",
       "131 -0.530602 -0.581223 -0.277638 -0.387648 -0.577069 -0.683328 -0.674286   \n",
       "132  0.480795  0.562897 -0.277638 -0.241284  0.086848  0.809972  0.950857   \n",
       "133 -0.330885 -0.289033 -0.277638 -0.397449 -0.308534 -0.350882 -0.236801   \n",
       "134 -0.522689 -0.547584 -0.277638 -0.330801 -0.427958 -0.600668 -0.625805   \n",
       "135 -0.542660 -0.602248 -0.277638 -0.397449 -0.583142 -0.676470 -0.584052   \n",
       "\n",
       "           14        15        16        17        18  \n",
       "0   -0.743464 -0.682268 -0.787172 -0.281020 -0.048022  \n",
       "1   -0.346774 -0.510598 -0.435297 -0.354714 -0.401351  \n",
       "2    1.518648  1.623715  1.764356 -0.397352 -1.622048  \n",
       "3   -0.644980 -0.692008 -0.661127  2.155561  1.268818  \n",
       "4   -0.670290 -0.646960 -0.706643  2.357169  1.040628  \n",
       "..        ...       ...       ...       ...       ...  \n",
       "131 -0.561031 -0.452157 -0.560904  0.000000 -0.122038  \n",
       "132  0.765613  0.625349  0.762127 -0.323323 -0.647765  \n",
       "133 -0.429219 -0.464332 -0.494380 -0.279342 -0.056767  \n",
       "134 -0.640219 -0.642090 -0.707081 -0.167207  0.066924  \n",
       "135 -0.596365 -0.454592 -0.538146 -0.375026 -0.198803  \n",
       "\n",
       "[136 rows x 19 columns]"
      ]
     },
     "execution_count": 16,
     "metadata": {},
     "output_type": "execute_result"
    }
   ],
   "source": [
    "DB_scaled = Abre_DB(f'{out}/Treino', 'X_train_potencial.pkl')\n",
    "DB_scaled = pd.DataFrame(DB_scaled)\n",
    "DB_scaled"
   ]
  },
  {
   "cell_type": "code",
   "execution_count": 17,
   "metadata": {},
   "outputs": [
    {
     "data": {
      "image/png": "[encoded data removed]",
      "text/plain": [
       "<Figure size 864x432 with 1 Axes>"
      ]
     },
     "metadata": {},
     "output_type": "display_data"
    }
   ],
   "source": [
    "sns.set_style(\"white\")\n",
    "sns.set_context(\"notebook\", font_scale=1.2, rc={\"lines.linewidth\": 2.5})\n",
    "dfm = DB_scaled.iloc[:,-2:-1].melt(var_name='columns')\n",
    "dfm\n",
    "g = sns.displot(DF.iloc[:,-2],kind=\"hist\",bins=136, kde=True)\n",
    "\n",
    "g.fig.set_figheight(6)\n",
    "g.fig.set_figwidth(12)\n",
    "g.savefig('Dist.pdf')"
   ]
  },
  {
   "cell_type": "code",
   "execution_count": 18,
   "metadata": {},
   "outputs": [
    {
     "data": {
      "application/vnd.plotly.v1+json": {
       "config": {
        "plotlyServerURL": "https://plot.ly"
       },
       "data": [
        {
         "alignmentgroup": "True",
         "hovertemplate": "potencial=%{x}<br>faturamento=%{y}<extra></extra>",
         "legendgroup": "",
         "marker": {
          "color": "#636efa"
         },
         "name": "",
         "notched": false,
         "offsetgroup": "",
         "orientation": "v",
         "showlegend": false,
         "type": "box",
         "x": [
          "Médio",
          "Baixo",
          "Baixo",
          "Médio",
          "Médio",
          "Alto",
          "Baixo",
          "Baixo",
          "Alto",
          "Alto",
          "Baixo",
          "Baixo",
          "Baixo",
          "Alto",
          "Médio",
          "Alto",
          "Alto",
          "Alto",
          "Baixo",
          "Baixo",
          "Baixo",
          "Baixo",
          "Médio",
          "Alto",
          "Médio",
          "Alto",
          "Baixo",
          "Baixo",
          "Alto",
          "Baixo",
          "Baixo",
          "Baixo",
          "Baixo",
          "Baixo",
          "Baixo",
          "Médio",
          "Alto",
          "Médio",
          "Médio",
          "Médio",
          "Baixo",
          "Médio",
          "Baixo",
          "Baixo",
          "Médio",
          "Baixo",
          "Médio",
          "Alto",
          "Alto",
          "Baixo",
          "Alto",
          "Médio",
          "Médio",
          "Médio",
          "Baixo",
          "Baixo",
          "Alto",
          "Baixo",
          "Médio",
          "Alto",
          "Baixo",
          "Médio",
          "Médio",
          "Médio",
          "Baixo",
          "Alto",
          "Médio",
          "Médio",
          "Alto",
          "Alto",
          "Alto",
          "Baixo",
          "Alto",
          "Baixo",
          "Baixo",
          "Alto",
          "Médio",
          "Alto",
          "Médio",
          "Médio",
          "Alto",
          "Alto",
          "Alto",
          "Alto",
          "Alto",
          "Alto",
          "Baixo",
          "Baixo",
          "Baixo",
          "Baixo",
          "Médio",
          "Alto",
          "Baixo",
          "Alto",
          "Médio",
          "Alto",
          "Médio",
          "Médio",
          "Alto",
          "Baixo",
          "Baixo",
          "Médio",
          "Baixo",
          "Médio",
          "Alto",
          "Baixo",
          "Alto",
          "Alto",
          "Alto",
          "Baixo",
          "Baixo",
          "Médio",
          "Médio",
          "Alto",
          "Baixo",
          "Médio",
          "Alto",
          "Alto",
          "Alto",
          "Médio",
          "Baixo",
          "Baixo",
          "Baixo",
          "Médio",
          "Médio",
          "Médio",
          "Baixo",
          "Médio",
          "Alto",
          "Médio",
          "Baixo",
          "Médio",
          "Médio",
          "Baixo",
          "Baixo",
          "Médio",
          "Baixo",
          "Médio",
          "Médio",
          "Alto",
          "Médio",
          "Alto",
          "Alto",
          "Baixo",
          "Baixo",
          "Médio",
          "Baixo",
          "Médio",
          "Baixo",
          "Baixo",
          "Baixo",
          "Baixo",
          "Baixo",
          "Alto",
          "Alto",
          "Médio",
          "Médio",
          "Alto",
          "Baixo",
          "Baixo"
         ],
         "x0": " ",
         "xaxis": "x",
         "y": [
          932515,
          588833,
          874200,
          912226,
          553020,
          1204467,
          1092081,
          808554,
          35465,
          2915612,
          846531,
          746904,
          662520,
          856901,
          851362,
          2211985,
          755073,
          1182272,
          852714,
          635348,
          876113,
          878140,
          935061,
          69645,
          796395,
          1073403,
          791170,
          774667,
          825608,
          488021,
          837355,
          855182,
          912281,
          702967,
          621314,
          88790,
          2384494,
          645088,
          1041359,
          219983,
          607957,
          748387,
          846146,
          808624,
          916012,
          818442,
          805559,
          903559,
          932007,
          764380,
          1981817,
          796321,
          1297388,
          684686,
          736698,
          641865,
          1430429,
          757466,
          1004569,
          1409134,
          835491,
          779768,
          69304,
          897049,
          722087,
          1289705,
          688001,
          346884,
          1962438,
          1030856,
          493011,
          822849,
          94671,
          527702,
          795412,
          1491476,
          795430,
          1448872,
          959473,
          1162364,
          1775547,
          1762798,
          2119774,
          1184553,
          932622,
          835847,
          754735,
          711591,
          404476,
          1384873,
          24651,
          726430,
          905395,
          1626856,
          978197,
          860621,
          858291,
          167586,
          629794,
          854818,
          630075,
          744303,
          789315,
          258464,
          1121587,
          832018,
          593191,
          908998,
          808082,
          826523,
          810599,
          950834,
          1005886,
          848230,
          893640,
          806166,
          766893,
          89769,
          1596252,
          934074,
          928239,
          720444,
          789463,
          922967,
          710341,
          59273,
          806674,
          43346,
          703465,
          536367,
          752007,
          1330747,
          828172,
          878830,
          828677,
          197681,
          689701,
          450723,
          778067,
          1014058,
          752629,
          2157079,
          1200769,
          722040,
          798206,
          1126244,
          768425,
          560631,
          767430,
          797801,
          738591,
          700834,
          623144,
          1100481,
          1528242,
          901446,
          849731,
          1127042,
          921875,
          919451
         ],
         "y0": " ",
         "yaxis": "y"
        }
       ],
       "layout": {
        "boxmode": "group",
        "height": 600,
        "legend": {
         "tracegroupgap": 0
        },
        "margin": {
         "t": 60
        },
        "template": {
         "data": {
          "bar": [
           {
            "error_x": {
             "color": "#2a3f5f"
            },
            "error_y": {
             "color": "#2a3f5f"
            },
            "marker": {
             "line": {
              "color": "#E5ECF6",
              "width": 0.5
             },
             "pattern": {
              "fillmode": "overlay",
              "size": 10,
              "solidity": 0.2
             }
            },
            "type": "bar"
           }
          ],
          "barpolar": [
           {
            "marker": {
             "line": {
              "color": "#E5ECF6",
              "width": 0.5
             },
             "pattern": {
              "fillmode": "overlay",
              "size": 10,
              "solidity": 0.2
             }
            },
            "type": "barpolar"
           }
          ],
          "carpet": [
           {
            "aaxis": {
             "endlinecolor": "#2a3f5f",
             "gridcolor": "white",
             "linecolor": "white",
             "minorgridcolor": "white",
             "startlinecolor": "#2a3f5f"
            },
            "baxis": {
             "endlinecolor": "#2a3f5f",
             "gridcolor": "white",
             "linecolor": "white",
             "minorgridcolor": "white",
             "startlinecolor": "#2a3f5f"
            },
            "type": "carpet"
           }
          ],
          "choropleth": [
           {
            "colorbar": {
             "outlinewidth": 0,
             "ticks": ""
            },
            "type": "choropleth"
           }
          ],
          "contour": [
           {
            "colorbar": {
             "outlinewidth": 0,
             "ticks": ""
            },
            "colorscale": [
             [
              0,
              "#0d0887"
             ],
             [
              0.1111111111111111,
              "#46039f"
             ],
             [
              0.2222222222222222,
              "#7201a8"
             ],
             [
              0.3333333333333333,
              "#9c179e"
             ],
             [
              0.4444444444444444,
              "#bd3786"
             ],
             [
              0.5555555555555556,
              "#d8576b"
             ],
             [
              0.6666666666666666,
              "#ed7953"
             ],
             [
              0.7777777777777778,
              "#fb9f3a"
             ],
             [
              0.8888888888888888,
              "#fdca26"
             ],
             [
              1,
              "#f0f921"
             ]
            ],
            "type": "contour"
           }
          ],
          "contourcarpet": [
           {
            "colorbar": {
             "outlinewidth": 0,
             "ticks": ""
            },
            "type": "contourcarpet"
           }
          ],
          "heatmap": [
           {
            "colorbar": {
             "outlinewidth": 0,
             "ticks": ""
            },
            "colorscale": [
             [
              0,
              "#0d0887"
             ],
             [
              0.1111111111111111,
              "#46039f"
             ],
             [
              0.2222222222222222,
              "#7201a8"
             ],
             [
              0.3333333333333333,
              "#9c179e"
             ],
             [
              0.4444444444444444,
              "#bd3786"
             ],
             [
              0.5555555555555556,
              "#d8576b"
             ],
             [
              0.6666666666666666,
              "#ed7953"
             ],
             [
              0.7777777777777778,
              "#fb9f3a"
             ],
             [
              0.8888888888888888,
              "#fdca26"
             ],
             [
              1,
              "#f0f921"
             ]
            ],
            "type": "heatmap"
           }
          ],
          "heatmapgl": [
           {
            "colorbar": {
             "outlinewidth": 0,
             "ticks": ""
            },
            "colorscale": [
             [
              0,
              "#0d0887"
             ],
             [
              0.1111111111111111,
              "#46039f"
             ],
             [
              0.2222222222222222,
              "#7201a8"
             ],
             [
              0.3333333333333333,
              "#9c179e"
             ],
             [
              0.4444444444444444,
              "#bd3786"
             ],
             [
              0.5555555555555556,
              "#d8576b"
             ],
             [
              0.6666666666666666,
              "#ed7953"
             ],
             [
              0.7777777777777778,
              "#fb9f3a"
             ],
             [
              0.8888888888888888,
              "#fdca26"
             ],
             [
              1,
              "#f0f921"
             ]
            ],
            "type": "heatmapgl"
           }
          ],
          "histogram": [
           {
            "marker": {
             "pattern": {
              "fillmode": "overlay",
              "size": 10,
              "solidity": 0.2
             }
            },
            "type": "histogram"
           }
          ],
          "histogram2d": [
           {
            "colorbar": {
             "outlinewidth": 0,
             "ticks": ""
            },
            "colorscale": [
             [
              0,
              "#0d0887"
             ],
             [
              0.1111111111111111,
              "#46039f"
             ],
             [
              0.2222222222222222,
              "#7201a8"
             ],
             [
              0.3333333333333333,
              "#9c179e"
             ],
             [
              0.4444444444444444,
              "#bd3786"
             ],
             [
              0.5555555555555556,
              "#d8576b"
             ],
             [
              0.6666666666666666,
              "#ed7953"
             ],
             [
              0.7777777777777778,
              "#fb9f3a"
             ],
             [
              0.8888888888888888,
              "#fdca26"
             ],
             [
              1,
              "#f0f921"
             ]
            ],
            "type": "histogram2d"
           }
          ],
          "histogram2dcontour": [
           {
            "colorbar": {
             "outlinewidth": 0,
             "ticks": ""
            },
            "colorscale": [
             [
              0,
              "#0d0887"
             ],
             [
              0.1111111111111111,
              "#46039f"
             ],
             [
              0.2222222222222222,
              "#7201a8"
             ],
             [
              0.3333333333333333,
              "#9c179e"
             ],
             [
              0.4444444444444444,
              "#bd3786"
             ],
             [
              0.5555555555555556,
              "#d8576b"
             ],
             [
              0.6666666666666666,
              "#ed7953"
             ],
             [
              0.7777777777777778,
              "#fb9f3a"
             ],
             [
              0.8888888888888888,
              "#fdca26"
             ],
             [
              1,
              "#f0f921"
             ]
            ],
            "type": "histogram2dcontour"
           }
          ],
          "mesh3d": [
           {
            "colorbar": {
             "outlinewidth": 0,
             "ticks": ""
            },
            "type": "mesh3d"
           }
          ],
          "parcoords": [
           {
            "line": {
             "colorbar": {
              "outlinewidth": 0,
              "ticks": ""
             }
            },
            "type": "parcoords"
           }
          ],
          "pie": [
           {
            "automargin": true,
            "type": "pie"
           }
          ],
          "scatter": [
           {
            "marker": {
             "colorbar": {
              "outlinewidth": 0,
              "ticks": ""
             }
            },
            "type": "scatter"
           }
          ],
          "scatter3d": [
           {
            "line": {
             "colorbar": {
              "outlinewidth": 0,
              "ticks": ""
             }
            },
            "marker": {
             "colorbar": {
              "outlinewidth": 0,
              "ticks": ""
             }
            },
            "type": "scatter3d"
           }
          ],
          "scattercarpet": [
           {
            "marker": {
             "colorbar": {
              "outlinewidth": 0,
              "ticks": ""
             }
            },
            "type": "scattercarpet"
           }
          ],
          "scattergeo": [
           {
            "marker": {
             "colorbar": {
              "outlinewidth": 0,
              "ticks": ""
             }
            },
            "type": "scattergeo"
           }
          ],
          "scattergl": [
           {
            "marker": {
             "colorbar": {
              "outlinewidth": 0,
              "ticks": ""
             }
            },
            "type": "scattergl"
           }
          ],
          "scattermapbox": [
           {
            "marker": {
             "colorbar": {
              "outlinewidth": 0,
              "ticks": ""
             }
            },
            "type": "scattermapbox"
           }
          ],
          "scatterpolar": [
           {
            "marker": {
             "colorbar": {
              "outlinewidth": 0,
              "ticks": ""
             }
            },
            "type": "scatterpolar"
           }
          ],
          "scatterpolargl": [
           {
            "marker": {
             "colorbar": {
              "outlinewidth": 0,
              "ticks": ""
             }
            },
            "type": "scatterpolargl"
           }
          ],
          "scatterternary": [
           {
            "marker": {
             "colorbar": {
              "outlinewidth": 0,
              "ticks": ""
             }
            },
            "type": "scatterternary"
           }
          ],
          "surface": [
           {
            "colorbar": {
             "outlinewidth": 0,
             "ticks": ""
            },
            "colorscale": [
             [
              0,
              "#0d0887"
             ],
             [
              0.1111111111111111,
              "#46039f"
             ],
             [
              0.2222222222222222,
              "#7201a8"
             ],
             [
              0.3333333333333333,
              "#9c179e"
             ],
             [
              0.4444444444444444,
              "#bd3786"
             ],
             [
              0.5555555555555556,
              "#d8576b"
             ],
             [
              0.6666666666666666,
              "#ed7953"
             ],
             [
              0.7777777777777778,
              "#fb9f3a"
             ],
             [
              0.8888888888888888,
              "#fdca26"
             ],
             [
              1,
              "#f0f921"
             ]
            ],
            "type": "surface"
           }
          ],
          "table": [
           {
            "cells": {
             "fill": {
              "color": "#EBF0F8"
             },
             "line": {
              "color": "white"
             }
            },
            "header": {
             "fill": {
              "color": "#C8D4E3"
             },
             "line": {
              "color": "white"
             }
            },
            "type": "table"
           }
          ]
         },
         "layout": {
          "annotationdefaults": {
           "arrowcolor": "#2a3f5f",
           "arrowhead": 0,
           "arrowwidth": 1
          },
          "autotypenumbers": "strict",
          "coloraxis": {
           "colorbar": {
            "outlinewidth": 0,
            "ticks": ""
           }
          },
          "colorscale": {
           "diverging": [
            [
             0,
             "#8e0152"
            ],
            [
             0.1,
             "#c51b7d"
            ],
            [
             0.2,
             "#de77ae"
            ],
            [
             0.3,
             "#f1b6da"
            ],
            [
             0.4,
             "#fde0ef"
            ],
            [
             0.5,
             "#f7f7f7"
            ],
            [
             0.6,
             "#e6f5d0"
            ],
            [
             0.7,
             "#b8e186"
            ],
            [
             0.8,
             "#7fbc41"
            ],
            [
             0.9,
             "#4d9221"
            ],
            [
             1,
             "#276419"
            ]
           ],
           "sequential": [
            [
             0,
             "#0d0887"
            ],
            [
             0.1111111111111111,
             "#46039f"
            ],
            [
             0.2222222222222222,
             "#7201a8"
            ],
            [
             0.3333333333333333,
             "#9c179e"
            ],
            [
             0.4444444444444444,
             "#bd3786"
            ],
            [
             0.5555555555555556,
             "#d8576b"
            ],
            [
             0.6666666666666666,
             "#ed7953"
            ],
            [
             0.7777777777777778,
             "#fb9f3a"
            ],
            [
             0.8888888888888888,
             "#fdca26"
            ],
            [
             1,
             "#f0f921"
            ]
           ],
           "sequentialminus": [
            [
             0,
             "#0d0887"
            ],
            [
             0.1111111111111111,
             "#46039f"
            ],
            [
             0.2222222222222222,
             "#7201a8"
            ],
            [
             0.3333333333333333,
             "#9c179e"
            ],
            [
             0.4444444444444444,
             "#bd3786"
            ],
            [
             0.5555555555555556,
             "#d8576b"
            ],
            [
             0.6666666666666666,
             "#ed7953"
            ],
            [
             0.7777777777777778,
             "#fb9f3a"
            ],
            [
             0.8888888888888888,
             "#fdca26"
            ],
            [
             1,
             "#f0f921"
            ]
           ]
          },
          "colorway": [
           "#636efa",
           "#EF553B",
           "#00cc96",
           "#ab63fa",
           "#FFA15A",
           "#19d3f3",
           "#FF6692",
           "#B6E880",
           "#FF97FF",
           "#FECB52"
          ],
          "font": {
           "color": "#2a3f5f"
          },
          "geo": {
           "bgcolor": "white",
           "lakecolor": "white",
           "landcolor": "#E5ECF6",
           "showlakes": true,
           "showland": true,
           "subunitcolor": "white"
          },
          "hoverlabel": {
           "align": "left"
          },
          "hovermode": "closest",
          "mapbox": {
           "style": "light"
          },
          "paper_bgcolor": "white",
          "plot_bgcolor": "#E5ECF6",
          "polar": {
           "angularaxis": {
            "gridcolor": "white",
            "linecolor": "white",
            "ticks": ""
           },
           "bgcolor": "#E5ECF6",
           "radialaxis": {
            "gridcolor": "white",
            "linecolor": "white",
            "ticks": ""
           }
          },
          "scene": {
           "xaxis": {
            "backgroundcolor": "#E5ECF6",
            "gridcolor": "white",
            "gridwidth": 2,
            "linecolor": "white",
            "showbackground": true,
            "ticks": "",
            "zerolinecolor": "white"
           },
           "yaxis": {
            "backgroundcolor": "#E5ECF6",
            "gridcolor": "white",
            "gridwidth": 2,
            "linecolor": "white",
            "showbackground": true,
            "ticks": "",
            "zerolinecolor": "white"
           },
           "zaxis": {
            "backgroundcolor": "#E5ECF6",
            "gridcolor": "white",
            "gridwidth": 2,
            "linecolor": "white",
            "showbackground": true,
            "ticks": "",
            "zerolinecolor": "white"
           }
          },
          "shapedefaults": {
           "line": {
            "color": "#2a3f5f"
           }
          },
          "ternary": {
           "aaxis": {
            "gridcolor": "white",
            "linecolor": "white",
            "ticks": ""
           },
           "baxis": {
            "gridcolor": "white",
            "linecolor": "white",
            "ticks": ""
           },
           "bgcolor": "#E5ECF6",
           "caxis": {
            "gridcolor": "white",
            "linecolor": "white",
            "ticks": ""
           }
          },
          "title": {
           "x": 0.05
          },
          "xaxis": {
           "automargin": true,
           "gridcolor": "white",
           "linecolor": "white",
           "ticks": "",
           "title": {
            "standoff": 15
           },
           "zerolinecolor": "white",
           "zerolinewidth": 2
          },
          "yaxis": {
           "automargin": true,
           "gridcolor": "white",
           "linecolor": "white",
           "ticks": "",
           "title": {
            "standoff": 15
           },
           "zerolinecolor": "white",
           "zerolinewidth": 2
          }
         }
        },
        "width": 300,
        "xaxis": {
         "anchor": "y",
         "categoryarray": [
          "Baixo",
          "Médio",
          "Alto"
         ],
         "categoryorder": "array",
         "domain": [
          0,
          1
         ],
         "title": {
          "text": "potencial"
         }
        },
        "yaxis": {
         "anchor": "x",
         "domain": [
          0,
          1
         ],
         "title": {
          "text": "faturamento"
         }
        }
       }
      }
     },
     "metadata": {},
     "output_type": "display_data"
    },
    {
     "ename": "ValueError",
     "evalue": "\nImage export using the \"kaleido\" engine requires the kaleido package,\nwhich can be installed using pip:\n    $ pip install -U kaleido\n",
     "output_type": "error",
     "traceback": [
      "\u001b[1;31m---------------------------------------------------------------------------\u001b[0m",
      "\u001b[1;31mValueError\u001b[0m                                Traceback (most recent call last)",
      "\u001b[1;32m~\\AppData\\Local\\Temp/ipykernel_327188/2454705103.py\u001b[0m in \u001b[0;36m<module>\u001b[1;34m\u001b[0m\n\u001b[0;32m      8\u001b[0m \u001b[1;33m\u001b[0m\u001b[0m\n\u001b[0;32m      9\u001b[0m \u001b[0mfig\u001b[0m\u001b[1;33m.\u001b[0m\u001b[0mshow\u001b[0m\u001b[1;33m(\u001b[0m\u001b[1;33m)\u001b[0m\u001b[1;33m\u001b[0m\u001b[1;33m\u001b[0m\u001b[0m\n\u001b[1;32m---> 10\u001b[1;33m \u001b[0mfig\u001b[0m\u001b[1;33m.\u001b[0m\u001b[0mwrite_image\u001b[0m\u001b[1;33m(\u001b[0m\u001b[1;34m\"Box_Plot.pdf\"\u001b[0m\u001b[1;33m)\u001b[0m\u001b[1;33m\u001b[0m\u001b[1;33m\u001b[0m\u001b[0m\n\u001b[0m",
      "\u001b[1;32m~\\AppData\\Local\\Packages\\PythonSoftwareFoundation.Python.3.9_qbz5n2kfra8p0\\LocalCache\\local-packages\\Python39\\site-packages\\plotly\\basedatatypes.py\u001b[0m in \u001b[0;36mwrite_image\u001b[1;34m(self, *args, **kwargs)\u001b[0m\n\u001b[0;32m   3819\u001b[0m         \u001b[1;32mimport\u001b[0m \u001b[0mplotly\u001b[0m\u001b[1;33m.\u001b[0m\u001b[0mio\u001b[0m \u001b[1;32mas\u001b[0m \u001b[0mpio\u001b[0m\u001b[1;33m\u001b[0m\u001b[1;33m\u001b[0m\u001b[0m\n\u001b[0;32m   3820\u001b[0m \u001b[1;33m\u001b[0m\u001b[0m\n\u001b[1;32m-> 3821\u001b[1;33m         \u001b[1;32mreturn\u001b[0m \u001b[0mpio\u001b[0m\u001b[1;33m.\u001b[0m\u001b[0mwrite_image\u001b[0m\u001b[1;33m(\u001b[0m\u001b[0mself\u001b[0m\u001b[1;33m,\u001b[0m \u001b[1;33m*\u001b[0m\u001b[0margs\u001b[0m\u001b[1;33m,\u001b[0m \u001b[1;33m**\u001b[0m\u001b[0mkwargs\u001b[0m\u001b[1;33m)\u001b[0m\u001b[1;33m\u001b[0m\u001b[1;33m\u001b[0m\u001b[0m\n\u001b[0m\u001b[0;32m   3822\u001b[0m \u001b[1;33m\u001b[0m\u001b[0m\n\u001b[0;32m   3823\u001b[0m     \u001b[1;31m# Static helpers\u001b[0m\u001b[1;33m\u001b[0m\u001b[1;33m\u001b[0m\u001b[0m\n",
      "\u001b[1;32m~\\AppData\\Local\\Packages\\PythonSoftwareFoundation.Python.3.9_qbz5n2kfra8p0\\LocalCache\\local-packages\\Python39\\site-packages\\plotly\\io\\_kaleido.py\u001b[0m in \u001b[0;36mwrite_image\u001b[1;34m(fig, file, format, scale, width, height, validate, engine)\u001b[0m\n\u001b[0;32m    266\u001b[0m     \u001b[1;31m# -------------\u001b[0m\u001b[1;33m\u001b[0m\u001b[1;33m\u001b[0m\u001b[0m\n\u001b[0;32m    267\u001b[0m     \u001b[1;31m# Do this first so we don't create a file if image conversion fails\u001b[0m\u001b[1;33m\u001b[0m\u001b[1;33m\u001b[0m\u001b[0m\n\u001b[1;32m--> 268\u001b[1;33m     img_data = to_image(\n\u001b[0m\u001b[0;32m    269\u001b[0m         \u001b[0mfig\u001b[0m\u001b[1;33m,\u001b[0m\u001b[1;33m\u001b[0m\u001b[1;33m\u001b[0m\u001b[0m\n\u001b[0;32m    270\u001b[0m         \u001b[0mformat\u001b[0m\u001b[1;33m=\u001b[0m\u001b[0mformat\u001b[0m\u001b[1;33m,\u001b[0m\u001b[1;33m\u001b[0m\u001b[1;33m\u001b[0m\u001b[0m\n",
      "\u001b[1;32m~\\AppData\\Local\\Packages\\PythonSoftwareFoundation.Python.3.9_qbz5n2kfra8p0\\LocalCache\\local-packages\\Python39\\site-packages\\plotly\\io\\_kaleido.py\u001b[0m in \u001b[0;36mto_image\u001b[1;34m(fig, format, width, height, scale, validate, engine)\u001b[0m\n\u001b[0;32m    132\u001b[0m     \u001b[1;31m# Raise informative error message if Kaleido is not installed\u001b[0m\u001b[1;33m\u001b[0m\u001b[1;33m\u001b[0m\u001b[0m\n\u001b[0;32m    133\u001b[0m     \u001b[1;32mif\u001b[0m \u001b[0mscope\u001b[0m \u001b[1;32mis\u001b[0m \u001b[1;32mNone\u001b[0m\u001b[1;33m:\u001b[0m\u001b[1;33m\u001b[0m\u001b[1;33m\u001b[0m\u001b[0m\n\u001b[1;32m--> 134\u001b[1;33m         raise ValueError(\n\u001b[0m\u001b[0;32m    135\u001b[0m             \"\"\"\n\u001b[0;32m    136\u001b[0m \u001b[0mImage\u001b[0m \u001b[0mexport\u001b[0m \u001b[0musing\u001b[0m \u001b[0mthe\u001b[0m \u001b[1;34m\"kaleido\"\u001b[0m \u001b[0mengine\u001b[0m \u001b[0mrequires\u001b[0m \u001b[0mthe\u001b[0m \u001b[0mkaleido\u001b[0m \u001b[0mpackage\u001b[0m\u001b[1;33m,\u001b[0m\u001b[1;33m\u001b[0m\u001b[1;33m\u001b[0m\u001b[0m\n",
      "\u001b[1;31mValueError\u001b[0m: \nImage export using the \"kaleido\" engine requires the kaleido package,\nwhich can be installed using pip:\n    $ pip install -U kaleido\n"
     ]
    }
   ],
   "source": [
    "DF = Abre_DB(out,'Base_RJ.pkl')\n",
    "\n",
    "fig = px.box(DF, y=\"faturamento\",x='potencial',category_orders={ # replaces default order by column name\n",
    "                \"potencial\": [\"Baixo\", \"Médio\", \"Alto\"]\n",
    "            },)\n",
    "            \n",
    "fig.update_layout(height=600, width=300) \n",
    "       \n",
    "fig.show()\n",
    "fig.write_image(\"Box_Plot.pdf\")    "
   ]
  },
  {
   "cell_type": "code",
   "execution_count": null,
   "metadata": {},
   "outputs": [
    {
     "name": "stdout",
     "output_type": "stream",
     "text": [
      "^C\n"
     ]
    }
   ],
   "source": []
  }
 ],
 "metadata": {
  "interpreter": {
   "hash": "ffa7516ed6f29c8ec66f5fe36abdbb00b5a0b396b200a29e7dab09afceb1c3a9"
  },
  "kernelspec": {
   "display_name": "Python 3.9.9 64-bit (windows store)",
   "language": "python",
   "name": "python3"
  },
  "language_info": {
   "codemirror_mode": {
    "name": "ipython",
    "version": 3
   },
   "file_extension": ".py",
   "mimetype": "text/x-python",
   "name": "python",
   "nbconvert_exporter": "python",
   "pygments_lexer": "ipython3",
   "version": "3.9.9"
  },
  "orig_nbformat": 4
 },
 "nbformat": 4,
 "nbformat_minor": 2
}
